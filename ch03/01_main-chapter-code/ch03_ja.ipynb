{
  "cells": [
    {
      "cell_type": "markdown",
      "metadata": {
        "id": "view-in-github",
        "colab_type": "text"
      },
      "source": [
        "<a href=\"https://colab.research.google.com/github/tyukei/LLMs-from-scratch/blob/feature%2Fch03/ch03/01_main-chapter-code/ch03_ja.ipynb\" target=\"_parent\"><img src=\"https://colab.research.google.com/assets/colab-badge.svg\" alt=\"Open In Colab\"/></a>"
      ]
    },
    {
      "cell_type": "markdown",
      "id": "1ae38945-39dd-45dc-ad4f-da7a4404241f",
      "metadata": {
        "id": "1ae38945-39dd-45dc-ad4f-da7a4404241f"
      },
      "source": [
        "<table style=\"width:100%\">\n",
        "<tr>\n",
        "<td style=\"vertical-align:middle; text-align:left;\">\n",
        "<font size=\"2\">\n",
        "<a href = \"http://mng.bz/oryv\"の補足コード>ゼロから大きな言語モデルを構築</a> <a href = \"https://sebastianraschka.com\"> sebastian raschka </a> <br><br>Code repository: <a href=\"https://github.com/rasbt/LLMs-from-scratch\">https://github.com/rasbt/LLMs-from-scratch</a>\n",
        "</font>\n",
        "</td>\n",
        "<td style=\"vertical-align:middle; text-align:left;\">\n",
        "<a href=\"http://mng.bz/orYv\"><img src=\"https://sebastianraschka.com/images/LLMs-from-scratch-images/cover-small.webp\" width=\"100px\"></a>\n",
        "</td>\n",
        "</tr>\n",
        "</table>\n"
      ]
    },
    {
      "cell_type": "markdown",
      "id": "8bfa70ec-5c4c-40e8-b923-16f8167e3181",
      "metadata": {
        "id": "8bfa70ec-5c4c-40e8-b923-16f8167e3181"
      },
      "source": [
        "# 第3章：注意メカニズムのコーディング"
      ]
    },
    {
      "cell_type": "markdown",
      "id": "c29bcbe8-a034-43a2-b557-997b03c9882d",
      "metadata": {
        "id": "c29bcbe8-a034-43a2-b557-997b03c9882d"
      },
      "source": [
        "このノートブックで使用されているパッケージ："
      ]
    },
    {
      "cell_type": "code",
      "execution_count": 1,
      "id": "e58f33e8-5dc9-4dd5-ab84-5a011fa11d92",
      "metadata": {
        "id": "e58f33e8-5dc9-4dd5-ab84-5a011fa11d92",
        "outputId": "1f011d33-8348-4fd7-f607-b9a6c2efd8cc",
        "colab": {
          "base_uri": "https://localhost:8080/"
        }
      },
      "outputs": [
        {
          "output_type": "stream",
          "name": "stdout",
          "text": [
            "torch version: 2.6.0+cu124\n"
          ]
        }
      ],
      "source": [
        "from importlib.metadata import version\n",
        "\n",
        "print(\"torch version:\", version(\"torch\"))"
      ]
    },
    {
      "cell_type": "markdown",
      "id": "a2a4474d-7c68-4846-8702-37906cf08197",
      "metadata": {
        "id": "a2a4474d-7c68-4846-8702-37906cf08197"
      },
      "source": [
        "- この章では、注意メカニズム、LLMSのエンジンをカバーしています。"
      ]
    },
    {
      "cell_type": "markdown",
      "id": "02a11208-d9d3-44b1-8e0d-0c8414110b93",
      "metadata": {
        "id": "02a11208-d9d3-44b1-8e0d-0c8414110b93"
      },
      "source": [
        "<img src=\"https://sebastianraschka.com/images/LLMs-from-scratch-images/ch03_compressed/01.webp?123\" width=\"500px\">"
      ]
    },
    {
      "cell_type": "markdown",
      "id": "50e020fd-9690-4343-80df-da96678bef5e",
      "metadata": {
        "id": "50e020fd-9690-4343-80df-da96678bef5e"
      },
      "source": [
        "<img src=\"https://sebastianraschka.com/images/LLMs-from-scratch-images/ch03_compressed/02.webp\" width=\"600px\">"
      ]
    },
    {
      "cell_type": "markdown",
      "id": "ecc4dcee-34ea-4c05-9085-2f8887f70363",
      "metadata": {
        "id": "ecc4dcee-34ea-4c05-9085-2f8887f70363"
      },
      "source": [
        "## 3.1長いシーケンスのモデリングの問題"
      ]
    },
    {
      "cell_type": "markdown",
      "id": "a55aa49c-36c2-48da-b1d9-70f416e46a6a",
      "metadata": {
        "id": "a55aa49c-36c2-48da-b1d9-70f416e46a6a"
      },
      "source": [
        "- このセクションにはコードがありません\n",
        "- ソース言語とターゲット言語間の文法構造の違いにより、単語ごとにテキストワードを翻訳することは不可能ではありません。"
      ]
    },
    {
      "cell_type": "markdown",
      "id": "55c0c433-aa4b-491e-848a-54905ebb05ad",
      "metadata": {
        "id": "55c0c433-aa4b-491e-848a-54905ebb05ad"
      },
      "source": [
        "<img src=\"https://sebastianraschka.com/images/LLMs-from-scratch-images/ch03_compressed/03.webp\" width=\"400px\">"
      ]
    },
    {
      "cell_type": "markdown",
      "id": "db03c48a-3429-48ea-9d4a-2e53b0e516b1",
      "metadata": {
        "id": "db03c48a-3429-48ea-9d4a-2e53b0e516b1"
      },
      "source": [
        "- トランスモデルの導入前に、エンコーダーデコーダーRNNは一般的に機械翻訳タスクに使用されていました\n",
        "- このセットアップでは、エンコーダはソース言語からのトークンのシーケンスを処理します。これは、入力シーケンス全体の凝縮された表現を生成するために、ニューラルネットワーク内の一種の中間層である隠された状態を使用します。"
      ]
    },
    {
      "cell_type": "markdown",
      "id": "03d8df2c-c1c2-4df0-9977-ade9713088b2",
      "metadata": {
        "id": "03d8df2c-c1c2-4df0-9977-ade9713088b2"
      },
      "source": [
        "<img src=\"https://sebastianraschka.com/images/LLMs-from-scratch-images/ch03_compressed/04.webp\" width=\"500px\">"
      ]
    },
    {
      "cell_type": "markdown",
      "id": "3602c585-b87a-41c7-a324-c5e8298849df",
      "metadata": {
        "id": "3602c585-b87a-41c7-a324-c5e8298849df"
      },
      "source": [
        "## 3.2注意メカニズムを使用したデータ依存関係のキャプチャ"
      ]
    },
    {
      "cell_type": "markdown",
      "id": "b6fde64c-6034-421d-81d9-8244932086ea",
      "metadata": {
        "id": "b6fde64c-6034-421d-81d9-8244932086ea"
      },
      "source": [
        "- このセクションにはコードがありません\n",
        "- 注意メカニズムを通じて、ネットワークのテキスト生成デコーダーセグメントは、すべての入力トークンに選択的にアクセスでき、特定の入力トークンが特定の出力トークンの生成において他のものよりも重要であることを意味します。"
      ]
    },
    {
      "cell_type": "markdown",
      "id": "bc4f6293-8ab5-4aeb-a04c-50ee158485b1",
      "metadata": {
        "id": "bc4f6293-8ab5-4aeb-a04c-50ee158485b1"
      },
      "source": [
        "<img src=\"https://sebastianraschka.com/images/LLMs-from-scratch-images/ch03_compressed/05.webp\" width=\"500px\">"
      ]
    },
    {
      "cell_type": "markdown",
      "id": "8044be1f-e6a2-4a1f-a6dd-e325d3bad05e",
      "metadata": {
        "id": "8044be1f-e6a2-4a1f-a6dd-e325d3bad05e"
      },
      "source": [
        "- 変圧器の自己関節は、同じシーケンス内の他のすべての位置の関連性に関与して決定するために、各位置をシーケンス内に有効にすることにより、入力表現を強化するように設計された技術です。"
      ]
    },
    {
      "cell_type": "markdown",
      "id": "6565dc9f-b1be-4c78-b503-42ccc743296c",
      "metadata": {
        "id": "6565dc9f-b1be-4c78-b503-42ccc743296c"
      },
      "source": [
        "<img src=\"https://sebastianraschka.com/images/LLMs-from-scratch-images/ch03_compressed/06.webp\" width=\"300px\">"
      ]
    },
    {
      "cell_type": "markdown",
      "id": "5efe05ff-b441-408e-8d66-cde4eb3397e3",
      "metadata": {
        "id": "5efe05ff-b441-408e-8d66-cde4eb3397e3"
      },
      "source": [
        "##3.3自己告発で入力のさまざまな部分に参加する"
      ]
    },
    {
      "cell_type": "markdown",
      "id": "6d9af516-7c37-4400-ab53-34936d5495a9",
      "metadata": {
        "id": "6d9af516-7c37-4400-ab53-34936d5495a9"
      },
      "source": [
        "### 3.3.1訓練可能なウェイトのない単純な自己触媒メカニズム"
      ]
    },
    {
      "cell_type": "markdown",
      "source": [
        "**シンプルアテンション機構の流れ**\n",
        "\n",
        "<img src=\"https://sebastianraschka.com/images/LLMs-from-scratch-images/ch03_compressed/12.webp\" width=\"200px\">\n",
        "\n",
        "**アテンションスコア[ω]: クエリとのドット積**\n",
        "\n",
        "<img src=\"https://sebastianraschka.com/images/LLMs-from-scratch-images/ch03_compressed/08.webp\" width=\"200px\">\n",
        "\n",
        "\n",
        "**アテンションウェイト[α]: アテンションスコアの正規化(足して１にする)**\n",
        "\n",
        "<img src=\"https://sebastianraschka.com/images/LLMs-from-scratch-images/ch03_compressed/09.webp\" width=\"200px\">\n",
        "\n",
        "\n",
        "**コンテキストベクトル[z]: アテンションウェイトとの加重合計**\n",
        "\n",
        "<img src=\"https://sebastianraschka.com/images/LLMs-from-scratch-images/ch03_compressed/10.webp\" width=\"200px\">"
      ],
      "metadata": {
        "id": "5BKJZfduhVW3"
      },
      "id": "5BKJZfduhVW3"
    },
    {
      "cell_type": "markdown",
      "id": "d269e9f1-df11-4644-b575-df338cf46cdf",
      "metadata": {
        "id": "d269e9f1-df11-4644-b575-df338cf46cdf"
      },
      "source": [
        "- このセクションでは、非常に単純化された自己触媒のバリアントについて説明します。\n",
        "- これは純粋にイラストの目的であり、トランスで使用される注意メカニズムではありません\n",
        "- 次のセクション、セクション3.3.2は、この単純な注意メカニズムを拡張して、実際の自己触媒メカニズムを実装する\n",
        "- 入力シーケンス$ x^{（1）} $ to $ x^{（t）} $が与えられているとします\n",
        "- 入力はテキスト（たとえば、「あなたの旅は1つのステップで始まる」のような文です）は、第2章で説明されているように、すでにトークン埋め込みに変換されています\n",
        "- たとえば、$ x^{（1）} $は、「your」などを表すD次元ベクトルです。\n",
        "-  **目標：**コンテキストベクトル$ z^{（i）} $ for各入力シーケンス要素$ x^{（i）} $ in $ x^{（1）} $ to $ x^{（t）} $（$ z $と$ x $の次元が同じです）\n",
        "- コンテキストベクトル$ Z^{（i）} $は、入力$ x^{（1）} $ $ x^{（t）} $に加えて加重合計です。\n",
        "- コンテキストベクトルは、特定の入力に「コンテキスト」 - 特異的です\n",
        "- 任意の入力トークンのプレースホルダーとして$ x^{（i）} $の代わりに、2番目の入力、$ x^{（2）} $を考えてみましょう\n",
        "- そして、具体的な例を継続するために、プレースホルダー$ z^{（i）} $の代わりに、2番目の出力コンテキストベクトル、$ z^{（2）} $を検討します。\n",
        "-2番目のコンテキストベクトル$ z^{（2）} $は、2番目の入力要素に対して加重されたすべての入力$ x^{（1）} $ to $ x^{（t）} $にわたって加重合計です。$ x^{（2）} $\n",
        "- 注意の重みは、$ z^{（2）} $を計算する際に、各入力要素が加重合計にどれだけの寄与しているかを決定する重みです\n",
        "- 要するに、$ z^{（2）} $は、手元の特定のタスクに関連する他のすべての入力要素に関する情報も組み込まれている$ x^{（2）} $の変更バージョンと考えてください"
      ]
    },
    {
      "cell_type": "markdown",
      "id": "fcc7c7a2-b6ab-478f-ae37-faa8eaa8049a",
      "metadata": {
        "id": "fcc7c7a2-b6ab-478f-ae37-faa8eaa8049a"
      },
      "source": [
        "<img src=\"https://sebastianraschka.com/images/LLMs-from-scratch-images/ch03_compressed/07.webp\" width=\"400px\">\n",
        "\n",
        "- この図の数字は1つに切り捨てられていることに注意してください\n",
        "視覚的な混乱を減らすための小数点の後の数字。\n",
        "- 同様に、他の数字には切り捨てられた値も含まれている場合があります"
      ]
    },
    {
      "cell_type": "markdown",
      "id": "ff856c58-8382-44c7-827f-798040e6e697",
      "metadata": {
        "id": "ff856c58-8382-44c7-827f-798040e6e697"
      },
      "source": [
        "- 慣習により、非正規化された注意の重量は**「注意スコア」と呼ばれますが、合計1に合計されている正規化された注意スコアは**「注意重み」と呼ばれます**"
      ]
    },
    {
      "cell_type": "markdown",
      "id": "01b10344-128d-462a-823f-2178dff5fd58",
      "metadata": {
        "id": "01b10344-128d-462a-823f-2178dff5fd58"
      },
      "source": [
        "- 下のコードは、上の図を段階的に歩きます<br>\n",
        "-  **ステップ1：**非正規化された注意スコア$ \\ omega $を計算します\n",
        "-2番目の入力トークンをクエリとして使用するとします。つまり、$ q^{（2）} = x^{（2）} $、DOT製品を介して非正規化された注意スコアを計算します。\n",
        "-  $ \\ omega_ {21} = x^{（1）} q^{（2）\\ top} $\n",
        "-  $ \\ omega_ {22} = x^{（2）} q^{（2）\\ top} $\n",
        "-  $ \\ omega_ {23} = x^{（3）} q^{（2）\\ top} $\n",
        "-  ...\n",
        "-  $ \\ omega_ {2t} = x^{（t）} q^{（2）\\ top} $\n",
        "- 上記では、$ \\ omega $はギリシャ文字「オメガ」であり、非正規化された注意スコアを象徴するために使用されます\n",
        "-  $ \\ omega_ {21} $の添え字 \"21\"は、入力シーケンス要素2が入力シーケンス要素1に対するクエリとして使用されたことを意味します。"
      ]
    },
    {
      "cell_type": "markdown",
      "id": "35e55f7a-f2d0-4f24-858b-228e4fe88fb3",
      "metadata": {
        "id": "35e55f7a-f2d0-4f24-858b-228e4fe88fb3"
      },
      "source": [
        "- 第3章で説明されているように、3次元ベクターに既に埋め込まれている次の入力文があるとします（ここには、イラストの目的で非常に小さな埋め込みディメンションを使用して、ラインブレークなしでページに適合するように）："
      ]
    },
    {
      "cell_type": "code",
      "execution_count": null,
      "id": "22b9556a-aaf8-4ab4-a5b4-973372b0b2c3",
      "metadata": {
        "id": "22b9556a-aaf8-4ab4-a5b4-973372b0b2c3"
      },
      "outputs": [],
      "source": [
        "import torch\n",
        "\n",
        "inputs = torch.tensor(\n",
        "  [[0.43, 0.15, 0.89], # Your     (x^1)\n",
        "   [0.55, 0.87, 0.66], # journey  (x^2)\n",
        "   [0.57, 0.85, 0.64], # starts   (x^3)\n",
        "   [0.22, 0.58, 0.33], # with     (x^4)\n",
        "   [0.77, 0.25, 0.10], # one      (x^5)\n",
        "   [0.05, 0.80, 0.55]] # step     (x^6)\n",
        ")"
      ]
    },
    {
      "cell_type": "markdown",
      "id": "299baef3-b1a8-49ba-bad4-f62c8a416d83",
      "metadata": {
        "id": "299baef3-b1a8-49ba-bad4-f62c8a416d83"
      },
      "source": [
        "- （この本では、トレーニングの例が行として列として行われ、上記のテンソルの場合、各行は単語を表し、各列は埋め込み寸法を表す、トレーニングの例が行と特徴値として表される共通の機械学習と深い学習慣習に従います））\n",
        "\n",
        "- このセクションの主な目的は、コンテキストVector $ z^{（2）} $がどのようにどのように行われるかを示すことです。\n",
        "クエリとして、2番目の入力シーケンス$ x^{（2）} $を使用して計算されます\n",
        "\n",
        "- 図は、このプロセスの最初のステップを示しています。\n",
        "ドット製品操作を通じて他のすべての入力要素"
      ]
    },
    {
      "cell_type": "markdown",
      "id": "5cb3453a-58fa-42c4-b225-86850bc856f8",
      "metadata": {
        "id": "5cb3453a-58fa-42c4-b225-86850bc856f8"
      },
      "source": [
        "<img src=\"https://sebastianraschka.com/images/LLMs-from-scratch-images/ch03_compressed/08.webp\" width=\"400px\">"
      ]
    },
    {
      "cell_type": "markdown",
      "id": "77be52fb-82fd-4886-a4c8-f24a9c87af22",
      "metadata": {
        "id": "77be52fb-82fd-4886-a4c8-f24a9c87af22"
      },
      "source": [
        "- コンテキストベクトル$ z^{（2）} $を計算する例として、入力シーケンス要素2、$ x^{（2）} $を使用します。このセクションの後半では、これを一般化して、すべてのコンテキストベクトルを計算します。\n",
        "- 最初のステップは、クエリ$ x^{（2）} $と他のすべての入力トークンの間でDOT製品を計算することにより、非正規化された注意スコアを計算することです。"
      ]
    },
    {
      "cell_type": "code",
      "execution_count": null,
      "id": "6fb5b2f8-dd2c-4a6d-94ef-a0e9ad163951",
      "metadata": {
        "id": "6fb5b2f8-dd2c-4a6d-94ef-a0e9ad163951",
        "outputId": "4a82e749-e77a-40f8-fc5d-155d1c04121c",
        "colab": {
          "base_uri": "https://localhost:8080/"
        }
      },
      "outputs": [
        {
          "output_type": "stream",
          "name": "stdout",
          "text": [
            "tensor([0.9544, 1.4950, 1.4754, 0.8434, 0.7070, 1.0865])\n"
          ]
        }
      ],
      "source": [
        "query = inputs[1]  # 2nd input token is the query\n",
        "\n",
        "attn_scores_2 = torch.empty(inputs.shape[0])\n",
        "for i, x_i in enumerate(inputs):\n",
        "    attn_scores_2[i] = torch.dot(x_i, query) # dot product (transpose not necessary here since they are 1-dim vectors)\n",
        "\n",
        "print(attn_scores_2)"
      ]
    },
    {
      "cell_type": "markdown",
      "id": "8df09ae0-199f-4b6f-81a0-2f70546684b8",
      "metadata": {
        "id": "8df09ae0-199f-4b6f-81a0-2f70546684b8"
      },
      "source": [
        "- サイドノート：ドット製品は、基本的に2つのベクトル要素を増やし、結果の製品を合計するための速記です。"
      ]
    },
    {
      "cell_type": "code",
      "execution_count": null,
      "id": "9842f39b-1654-410e-88bf-d1b899bf0241",
      "metadata": {
        "id": "9842f39b-1654-410e-88bf-d1b899bf0241",
        "outputId": "5d204f57-3635-4ce9-cd82-a2a4a1a81851",
        "colab": {
          "base_uri": "https://localhost:8080/"
        }
      },
      "outputs": [
        {
          "output_type": "stream",
          "name": "stdout",
          "text": [
            "tensor(0.9544)\n",
            "tensor(0.9544)\n"
          ]
        }
      ],
      "source": [
        "res = 0.\n",
        "\n",
        "for idx, element in enumerate(inputs[0]):\n",
        "    res += inputs[0][idx] * query[idx]\n",
        "\n",
        "print(res)\n",
        "print(torch.dot(inputs[0], query))"
      ]
    },
    {
      "cell_type": "markdown",
      "id": "7d444d76-e19e-4e9a-a268-f315d966609b",
      "metadata": {
        "id": "7d444d76-e19e-4e9a-a268-f315d966609b"
      },
      "source": [
        "-  **ステップ2：**非正規化された注意スコア（ \"Omegas\"、$ \\ omega $）を正規化して、それらが合計1まで合計するように\n",
        "- 非正規化された注意スコアを正規化して最大1（コンベンション、解釈に役立ち、トレーニングの安定性に重要）を正規化する簡単な方法を次に示します。"
      ]
    },
    {
      "cell_type": "markdown",
      "id": "dfd965d6-980c-476a-93d8-9efe603b1b3b",
      "metadata": {
        "id": "dfd965d6-980c-476a-93d8-9efe603b1b3b"
      },
      "source": [
        "<img src=\"https://sebastianraschka.com/images/LLMs-from-scratch-images/ch03_compressed/09.webp\" width=\"500px\">"
      ]
    },
    {
      "cell_type": "code",
      "execution_count": null,
      "id": "e3ccc99c-33ce-4f11-b7f2-353cf1cbdaba",
      "metadata": {
        "id": "e3ccc99c-33ce-4f11-b7f2-353cf1cbdaba",
        "outputId": "bbac66d1-adf1-4a46-a2c2-d1cb3c633b56",
        "colab": {
          "base_uri": "https://localhost:8080/"
        }
      },
      "outputs": [
        {
          "output_type": "stream",
          "name": "stdout",
          "text": [
            "Attention weights: tensor([0.1455, 0.2278, 0.2249, 0.1285, 0.1077, 0.1656])\n",
            "Sum: tensor(1.0000)\n"
          ]
        }
      ],
      "source": [
        "attn_weights_2_tmp = attn_scores_2 / attn_scores_2.sum()\n",
        "\n",
        "print(\"Attention weights:\", attn_weights_2_tmp)\n",
        "print(\"Sum:\", attn_weights_2_tmp.sum())"
      ]
    },
    {
      "cell_type": "markdown",
      "id": "75dc0a57-f53e-41bf-8793-daa77a819431",
      "metadata": {
        "id": "75dc0a57-f53e-41bf-8793-daa77a819431"
      },
      "source": [
        "- ただし、実際には、正規化にSoftMax関数を使用して、極端な値の取り扱いに優れており、トレーニング中により望ましい勾配特性を持っていることが一般的で推奨されます。\n",
        "- スケーリング用のSoftMax関数の素朴な実装です。これにより、ベクトル要素は最大1までの要素を正規化します。"
      ]
    },
    {
      "cell_type": "code",
      "execution_count": null,
      "id": "07b2e58d-a6ed-49f0-a1cd-2463e8d53a20",
      "metadata": {
        "id": "07b2e58d-a6ed-49f0-a1cd-2463e8d53a20",
        "outputId": "35051009-f9be-4a5d-d2ec-e9ef568cfefc",
        "colab": {
          "base_uri": "https://localhost:8080/"
        }
      },
      "outputs": [
        {
          "output_type": "stream",
          "name": "stdout",
          "text": [
            "Attention weights: tensor([0.1385, 0.2379, 0.2333, 0.1240, 0.1082, 0.1581])\n",
            "Sum: tensor(1.)\n"
          ]
        }
      ],
      "source": [
        "def softmax_naive(x):\n",
        "    return torch.exp(x) / torch.exp(x).sum(dim=0)\n",
        "\n",
        "attn_weights_2_naive = softmax_naive(attn_scores_2)\n",
        "\n",
        "print(\"Attention weights:\", attn_weights_2_naive)\n",
        "print(\"Sum:\", attn_weights_2_naive.sum())"
      ]
    },
    {
      "cell_type": "markdown",
      "id": "f0a1cbbb-4744-41cb-8910-f5c1355555fb",
      "metadata": {
        "id": "f0a1cbbb-4744-41cb-8910-f5c1355555fb"
      },
      "source": [
        "- 上記の素朴な実装は、オーバーフローとアンダーフローの問題による大小の入力値の数値不安定性の問題に苦しむ可能性があります\n",
        "- したがって、実際には、代わりにSoftMaxのPytorch実装を使用することをお勧めします。これは、パフォーマンスのために高度に最適化されています。"
      ]
    },
    {
      "cell_type": "code",
      "execution_count": null,
      "id": "2d99cac4-45ea-46b3-b3c1-e000ad16e158",
      "metadata": {
        "id": "2d99cac4-45ea-46b3-b3c1-e000ad16e158",
        "outputId": "dfafbc7e-a96f-4e0e-9f0c-14397e9fe900",
        "colab": {
          "base_uri": "https://localhost:8080/"
        }
      },
      "outputs": [
        {
          "output_type": "stream",
          "name": "stdout",
          "text": [
            "Attention weights: tensor([0.1385, 0.2379, 0.2333, 0.1240, 0.1082, 0.1581])\n",
            "Sum: tensor(1.)\n"
          ]
        }
      ],
      "source": [
        "attn_weights_2 = torch.softmax(attn_scores_2, dim=0)\n",
        "\n",
        "print(\"Attention weights:\", attn_weights_2)\n",
        "print(\"Sum:\", attn_weights_2.sum())"
      ]
    },
    {
      "cell_type": "markdown",
      "id": "e43e36c7-90b2-427f-94f6-bb9d31b2ab3f",
      "metadata": {
        "id": "e43e36c7-90b2-427f-94f6-bb9d31b2ab3f"
      },
      "source": [
        "-  **ステップ3 **：埋め込み入力トークンを乗算することにより、コンテキストベクトル$ z^{（2）} $を計算します。"
      ]
    },
    {
      "cell_type": "markdown",
      "id": "f1c9f5ac-8d3d-4847-94e3-fd783b7d4d3d",
      "metadata": {
        "id": "f1c9f5ac-8d3d-4847-94e3-fd783b7d4d3d"
      },
      "source": [
        "<img src=\"https://sebastianraschka.com/images/LLMs-from-scratch-images/ch03_compressed/10.webp\" width=\"500px\">"
      ]
    },
    {
      "cell_type": "code",
      "execution_count": null,
      "id": "8fcb96f0-14e5-4973-a50e-79ea7c6af99f",
      "metadata": {
        "id": "8fcb96f0-14e5-4973-a50e-79ea7c6af99f",
        "outputId": "de07a32a-9c12-44e0-de32-01f757a193c3",
        "colab": {
          "base_uri": "https://localhost:8080/"
        }
      },
      "outputs": [
        {
          "output_type": "stream",
          "name": "stdout",
          "text": [
            "tensor([0.4419, 0.6515, 0.5683])\n"
          ]
        }
      ],
      "source": [
        "query = inputs[1] # 2nd input token is the query\n",
        "\n",
        "context_vec_2 = torch.zeros(query.shape)\n",
        "for i,x_i in enumerate(inputs):\n",
        "    context_vec_2 += attn_weights_2[i]*x_i\n",
        "\n",
        "print(context_vec_2)"
      ]
    },
    {
      "cell_type": "markdown",
      "id": "5a454262-40eb-430e-9ca4-e43fb8d6cd89",
      "metadata": {
        "id": "5a454262-40eb-430e-9ca4-e43fb8d6cd89"
      },
      "source": [
        "### 3.3.2すべての入力トークンの注意ウェイトを計算します"
      ]
    },
    {
      "cell_type": "markdown",
      "id": "6a02bb73-fc19-4c88-b155-8314de5d63a8",
      "metadata": {
        "id": "6a02bb73-fc19-4c88-b155-8314de5d63a8"
      },
      "source": [
        "####すべての入力シーケンストークンに一般化します：\n",
        "\n",
        "- 上記では、入力2の注意力とコンテキストベクトルを計算しました（下の図の強調表示された行に示されています）\n",
        "- 次に、すべての注意の重みとコンテキストベクターを計算するためにこの計算を一般化しています"
      ]
    },
    {
      "cell_type": "markdown",
      "id": "11c0fb55-394f-42f4-ba07-d01ae5c98ab4",
      "metadata": {
        "id": "11c0fb55-394f-42f4-ba07-d01ae5c98ab4"
      },
      "source": [
        "<img src=\"https://sebastianraschka.com/images/LLMs-from-scratch-images/ch03_compressed/11.webp\" width=\"400px\">\n",
        "- （この図の数字は2つに切り捨てられていることに注意してください\n",
        "視覚的な混乱を減らすための小数点の後の数字。各行の値は、1.0または100％になるはずです。同様に、他の図の数字は切り捨てられます）"
      ]
    },
    {
      "cell_type": "markdown",
      "id": "b789b990-fb51-4beb-9212-bf58876b5983",
      "metadata": {
        "id": "b789b990-fb51-4beb-9212-bf58876b5983"
      },
      "source": [
        "- 自己関節では、プロセスは注意スコアの計算から始まり、その後、合計1の注意重量を導き出すように正規化されます\n",
        "- これらの注意の重みは、入力の加重合計を介してコンテキストベクターを生成するために利用されます"
      ]
    },
    {
      "cell_type": "markdown",
      "id": "d9bffe4b-56fe-4c37-9762-24bd924b7d3c",
      "metadata": {
        "id": "d9bffe4b-56fe-4c37-9762-24bd924b7d3c"
      },
      "source": [
        "<img src=\"https://sebastianraschka.com/images/LLMs-from-scratch-images/ch03_compressed/12.webp\" width=\"400px\">"
      ]
    },
    {
      "cell_type": "markdown",
      "id": "aa652506-f2c8-473c-a905-85c389c842cc",
      "metadata": {
        "id": "aa652506-f2c8-473c-a905-85c389c842cc"
      },
      "source": [
        "- 前の**ステップ1 **をすべてのペアワイズ要素に適用して、非正規化された注意スコアマトリックスを計算します。"
      ]
    },
    {
      "cell_type": "code",
      "execution_count": null,
      "id": "04004be8-07a1-468b-ab33-32e16a551b45",
      "metadata": {
        "id": "04004be8-07a1-468b-ab33-32e16a551b45",
        "outputId": "b120cb8b-d17f-4725-cac3-5ed03699c70e",
        "colab": {
          "base_uri": "https://localhost:8080/"
        }
      },
      "outputs": [
        {
          "output_type": "stream",
          "name": "stdout",
          "text": [
            "tensor([[0.9995, 0.9544, 0.9422, 0.4753, 0.4576, 0.6310],\n",
            "        [0.9544, 1.4950, 1.4754, 0.8434, 0.7070, 1.0865],\n",
            "        [0.9422, 1.4754, 1.4570, 0.8296, 0.7154, 1.0605],\n",
            "        [0.4753, 0.8434, 0.8296, 0.4937, 0.3474, 0.6565],\n",
            "        [0.4576, 0.7070, 0.7154, 0.3474, 0.6654, 0.2935],\n",
            "        [0.6310, 1.0865, 1.0605, 0.6565, 0.2935, 0.9450]])\n"
          ]
        }
      ],
      "source": [
        "attn_scores = torch.empty(6, 6)\n",
        "\n",
        "for i, x_i in enumerate(inputs):\n",
        "    for j, x_j in enumerate(inputs):\n",
        "        attn_scores[i, j] = torch.dot(x_i, x_j)\n",
        "\n",
        "print(attn_scores)"
      ]
    },
    {
      "cell_type": "markdown",
      "id": "1539187f-1ece-47b7-bc9b-65a97115f1d4",
      "metadata": {
        "id": "1539187f-1ece-47b7-bc9b-65a97115f1d4"
      },
      "source": [
        "- マトリックスの乗算により、上記と同じをより効率的に達成できます。"
      ]
    },
    {
      "cell_type": "code",
      "execution_count": null,
      "id": "2cea69d0-9a47-45da-8d5a-47ceef2df673",
      "metadata": {
        "id": "2cea69d0-9a47-45da-8d5a-47ceef2df673",
        "outputId": "88a9c698-13a4-498f-d9d7-84183f75608f",
        "colab": {
          "base_uri": "https://localhost:8080/"
        }
      },
      "outputs": [
        {
          "output_type": "stream",
          "name": "stdout",
          "text": [
            "tensor([[0.9995, 0.9544, 0.9422, 0.4753, 0.4576, 0.6310],\n",
            "        [0.9544, 1.4950, 1.4754, 0.8434, 0.7070, 1.0865],\n",
            "        [0.9422, 1.4754, 1.4570, 0.8296, 0.7154, 1.0605],\n",
            "        [0.4753, 0.8434, 0.8296, 0.4937, 0.3474, 0.6565],\n",
            "        [0.4576, 0.7070, 0.7154, 0.3474, 0.6654, 0.2935],\n",
            "        [0.6310, 1.0865, 1.0605, 0.6565, 0.2935, 0.9450]])\n"
          ]
        }
      ],
      "source": [
        "attn_scores = inputs @ inputs.T\n",
        "print(attn_scores)"
      ]
    },
    {
      "cell_type": "markdown",
      "id": "02c4bac4-acfd-427f-9b11-c436ac71748d",
      "metadata": {
        "id": "02c4bac4-acfd-427f-9b11-c436ac71748d"
      },
      "source": [
        "-  **ステップ2 **と同様に、以前は、各行の値が1に合計されるように各行を正規化します。"
      ]
    },
    {
      "cell_type": "code",
      "execution_count": null,
      "id": "fa4ef062-de81-47ee-8415-bfe1708c81b8",
      "metadata": {
        "id": "fa4ef062-de81-47ee-8415-bfe1708c81b8",
        "outputId": "3c383797-4017-4b05-f6d8-a1d611784149",
        "colab": {
          "base_uri": "https://localhost:8080/"
        }
      },
      "outputs": [
        {
          "output_type": "stream",
          "name": "stdout",
          "text": [
            "tensor([[0.2098, 0.2006, 0.1981, 0.1242, 0.1220, 0.1452],\n",
            "        [0.1385, 0.2379, 0.2333, 0.1240, 0.1082, 0.1581],\n",
            "        [0.1390, 0.2369, 0.2326, 0.1242, 0.1108, 0.1565],\n",
            "        [0.1435, 0.2074, 0.2046, 0.1462, 0.1263, 0.1720],\n",
            "        [0.1526, 0.1958, 0.1975, 0.1367, 0.1879, 0.1295],\n",
            "        [0.1385, 0.2184, 0.2128, 0.1420, 0.0988, 0.1896]])\n"
          ]
        }
      ],
      "source": [
        "attn_weights = torch.softmax(attn_scores, dim=-1)\n",
        "print(attn_weights)"
      ]
    },
    {
      "cell_type": "markdown",
      "id": "3fa6d02b-7f15-4eb4-83a7-0b8a819e7a0c",
      "metadata": {
        "id": "3fa6d02b-7f15-4eb4-83a7-0b8a819e7a0c"
      },
      "source": [
        "- 各行の値が実際に1に合計されていることを迅速に検証します："
      ]
    },
    {
      "cell_type": "code",
      "execution_count": null,
      "id": "112b492c-fb6f-4e6d-8df5-518ae83363d5",
      "metadata": {
        "id": "112b492c-fb6f-4e6d-8df5-518ae83363d5",
        "outputId": "fba8cbe1-5a4e-48f1-9939-a1ba2a74a68f",
        "colab": {
          "base_uri": "https://localhost:8080/"
        }
      },
      "outputs": [
        {
          "output_type": "stream",
          "name": "stdout",
          "text": [
            "Row 2 sum: 1.0\n",
            "All row sums: tensor([1.0000, 1.0000, 1.0000, 1.0000, 1.0000, 1.0000])\n"
          ]
        }
      ],
      "source": [
        "row_2_sum = sum([0.1385, 0.2379, 0.2333, 0.1240, 0.1082, 0.1581])\n",
        "print(\"Row 2 sum:\", row_2_sum)\n",
        "\n",
        "print(\"All row sums:\", attn_weights.sum(dim=-1))"
      ]
    },
    {
      "cell_type": "markdown",
      "id": "138b0b5c-d813-44c7-b373-fde9540ddfd1",
      "metadata": {
        "id": "138b0b5c-d813-44c7-b373-fde9540ddfd1"
      },
      "source": [
        "- 前の**ステップ3 **を適用して、すべてのコンテキストベクトルを計算します。"
      ]
    },
    {
      "cell_type": "code",
      "execution_count": null,
      "id": "ba8eafcf-f7f7-4989-b8dc-61b50c4f81dc",
      "metadata": {
        "id": "ba8eafcf-f7f7-4989-b8dc-61b50c4f81dc",
        "outputId": "38a34139-bc89-4224-f1d7-1edd165a957a",
        "colab": {
          "base_uri": "https://localhost:8080/"
        }
      },
      "outputs": [
        {
          "output_type": "stream",
          "name": "stdout",
          "text": [
            "tensor([[0.4421, 0.5931, 0.5790],\n",
            "        [0.4419, 0.6515, 0.5683],\n",
            "        [0.4431, 0.6496, 0.5671],\n",
            "        [0.4304, 0.6298, 0.5510],\n",
            "        [0.4671, 0.5910, 0.5266],\n",
            "        [0.4177, 0.6503, 0.5645]])\n"
          ]
        }
      ],
      "source": [
        "all_context_vecs = attn_weights @ inputs\n",
        "print(all_context_vecs)"
      ]
    },
    {
      "cell_type": "markdown",
      "id": "25b245b8-7732-4fab-aa1c-e3d333195605",
      "metadata": {
        "id": "25b245b8-7732-4fab-aa1c-e3d333195605"
      },
      "source": [
        "- 正気のチェックとして、以前に計算されたコンテキストベクトル$ z^{（2）} = [0.4419、0.6515、0.5683] $は、上の2行目にあります。"
      ]
    },
    {
      "cell_type": "code",
      "execution_count": null,
      "id": "2570eb7d-aee1-457a-a61e-7544478219fa",
      "metadata": {
        "id": "2570eb7d-aee1-457a-a61e-7544478219fa",
        "outputId": "7a7eeda9-1061-414d-a120-9717a2611aff",
        "colab": {
          "base_uri": "https://localhost:8080/"
        }
      },
      "outputs": [
        {
          "output_type": "stream",
          "name": "stdout",
          "text": [
            "Previous 2nd context vector: tensor([0.4419, 0.6515, 0.5683])\n"
          ]
        }
      ],
      "source": [
        "print(\"Previous 2nd context vector:\", context_vec_2)"
      ]
    },
    {
      "cell_type": "markdown",
      "id": "a303b6fb-9f7e-42bb-9fdb-2adabf0a6525",
      "metadata": {
        "id": "a303b6fb-9f7e-42bb-9fdb-2adabf0a6525"
      },
      "source": [
        "## 3.4トレーニング可能なウェイトで自己触たちの実装"
      ]
    },
    {
      "cell_type": "markdown",
      "id": "88363117-93d8-41fb-8240-f7cfe08b14a3",
      "metadata": {
        "id": "88363117-93d8-41fb-8240-f7cfe08b14a3"
      },
      "source": [
        "- このセクションで開発された自己関節メカニズムが、この本と章の全体的な物語と構造にどのように統合されているかを示す概念的なフレームワーク"
      ]
    },
    {
      "cell_type": "markdown",
      "id": "ac9492ba-6f66-4f65-bd1d-87cf16d59928",
      "metadata": {
        "id": "ac9492ba-6f66-4f65-bd1d-87cf16d59928"
      },
      "source": [
        "<img src=\"https://sebastianraschka.com/images/LLMs-from-scratch-images/ch03_compressed/13.webp\" width=\"400px\">"
      ]
    },
    {
      "cell_type": "markdown",
      "id": "2b90a77e-d746-4704-9354-1ddad86e6298",
      "metadata": {
        "id": "2b90a77e-d746-4704-9354-1ddad86e6298"
      },
      "source": [
        "### 3.4.1注意の重みを段階的に計算します"
      ]
    },
    {
      "cell_type": "markdown",
      "id": "46e95a46-1f67-4b71-9e84-8e2db84ab036",
      "metadata": {
        "id": "46e95a46-1f67-4b71-9e84-8e2db84ab036"
      },
      "source": [
        "- このセクションでは、元のトランスアーキテクチャ、GPTモデル、およびその他の人気のあるLLMで使用される自己触媒メカニズムを実装しています\n",
        "- この自己関節メカニズムは「スケーリングされたドット製品の注意」とも呼ばれます\n",
        "- 全体的なアイデアは以前に似ています。\n",
        "- 特定の入力要素に固有の入力ベクトル上の加重合計としてコンテキストベクトルを計算したい\n",
        "- 上記では、注意の重みが必要です\n",
        "- ご覧のとおり、以前に紹介した基本的な注意メカニズムと比較して、わずかな違いしかありません。\n",
        "- 最も顕著な違いは、モデルトレーニング中に更新される重量行列の導入です\n",
        "- これらのトレーニング可能な重量行列は重要であるため、モデル（具体的には、モデル内の注意モジュール）が「良い」コンテキストベクターを生成することを学ぶことができます"
      ]
    },
    {
      "cell_type": "markdown",
      "id": "59db4093-93e8-4bee-be8f-c8fac8a08cdd",
      "metadata": {
        "id": "59db4093-93e8-4bee-be8f-c8fac8a08cdd"
      },
      "source": [
        "<img src=\"https://sebastianraschka.com/images/LLMs-from-scratch-images/ch03_compressed/14.webp\" width=\"600px\">"
      ]
    },
    {
      "cell_type": "markdown",
      "id": "4d996671-87aa-45c9-b2e0-07a7bcc9060a",
      "metadata": {
        "id": "4d996671-87aa-45c9-b2e0-07a7bcc9060a"
      },
      "source": [
        "- 自己触媒メカニズムを段階的に実装すると、3つのトレーニングウェイトマトリックス$ w_q $、$ w_k $、および$ w_v $を導入することから始めます。\n",
        "- これらの3つのマトリックスは、埋め込み入力トークン、$ x^{（i）} $、マトリックス乗算を介してクエリ、キー、および値ベクトルに投影するために使用されます。\n",
        "\n",
        "- クエリベクトル：$ q^{（i）} = w_q \\、x^{（i）} $\n",
        "- キーベクトル：$ k^{（i）} = w_k \\、x^{（i）} $\n",
        "- 値ベクトル：$ v^{（i）} = w_v \\、x^{（i）} $"
      ]
    },
    {
      "cell_type": "markdown",
      "id": "9f334313-5fd0-477b-8728-04080a427049",
      "metadata": {
        "id": "9f334313-5fd0-477b-8728-04080a427049"
      },
      "source": [
        "- 入力$ x $とクエリベクトル$ q $の埋め込み寸法は、モデルの設計と特定の実装に応じて、同じまたは異なる場合があります\n",
        "-GPTモデルでは、入力と出力の寸法は通常同じですが、イラストの目的のために、計算をよりよく追跡するために、ここで異なる入力と出力の寸法を選択します。"
      ]
    },
    {
      "cell_type": "code",
      "execution_count": null,
      "id": "8250fdc6-6cd6-4c5b-b9c0-8c643aadb7db",
      "metadata": {
        "id": "8250fdc6-6cd6-4c5b-b9c0-8c643aadb7db"
      },
      "outputs": [],
      "source": [
        "x_2 = inputs[1] # second input element\n",
        "d_in = inputs.shape[1] # the input embedding size, d=3\n",
        "d_out = 2 # the output embedding size, d=2"
      ]
    },
    {
      "cell_type": "markdown",
      "id": "f528cfb3-e226-47dd-b363-cc2caaeba4bf",
      "metadata": {
        "id": "f528cfb3-e226-47dd-b363-cc2caaeba4bf"
      },
      "source": [
        "- 以下では、3つの重みマトリックスを初期化します。イラストの目的で出力を減らすために `requires_grad = false`を設定していることに注意してください。しかし、モデルトレーニングにウェイトマトリックスを使用する場合、モデルトレーニング中にこれらのマトリックスを更新するために` requires_grad = true`を設定します"
      ]
    },
    {
      "cell_type": "code",
      "execution_count": null,
      "id": "bfd7259a-f26c-4cea-b8fc-282b5cae1e00",
      "metadata": {
        "id": "bfd7259a-f26c-4cea-b8fc-282b5cae1e00"
      },
      "outputs": [],
      "source": [
        "torch.manual_seed(123)\n",
        "\n",
        "W_query = torch.nn.Parameter(torch.rand(d_in, d_out), requires_grad=False)\n",
        "W_key   = torch.nn.Parameter(torch.rand(d_in, d_out), requires_grad=False)\n",
        "W_value = torch.nn.Parameter(torch.rand(d_in, d_out), requires_grad=False)"
      ]
    },
    {
      "cell_type": "markdown",
      "id": "abfd0b50-7701-4adb-821c-e5433622d9c4",
      "metadata": {
        "id": "abfd0b50-7701-4adb-821c-e5433622d9c4"
      },
      "source": [
        "- 次に、クエリ、キー、および値ベクトルを計算します。"
      ]
    },
    {
      "cell_type": "code",
      "execution_count": null,
      "id": "73cedd62-01e1-4196-a575-baecc6095601",
      "metadata": {
        "id": "73cedd62-01e1-4196-a575-baecc6095601",
        "outputId": "73750718-d799-4e2c-af46-7661929e5dda",
        "colab": {
          "base_uri": "https://localhost:8080/"
        }
      },
      "outputs": [
        {
          "output_type": "stream",
          "name": "stdout",
          "text": [
            "tensor([0.4306, 1.4551])\n"
          ]
        }
      ],
      "source": [
        "query_2 = x_2 @ W_query # _2 because it's with respect to the 2nd input element\n",
        "key_2 = x_2 @ W_key\n",
        "value_2 = x_2 @ W_value\n",
        "\n",
        "print(query_2)"
      ]
    },
    {
      "cell_type": "markdown",
      "id": "9be308b3-aca3-421b-b182-19c3a03b71c7",
      "metadata": {
        "id": "9be308b3-aca3-421b-b182-19c3a03b71c7"
      },
      "source": [
        "- 以下に示すように、3Dから6つの入力トークンを2D埋め込みスペースに予測しました。"
      ]
    },
    {
      "cell_type": "code",
      "execution_count": null,
      "id": "8c1c3949-fc08-4d19-a41e-1c235b4e631b",
      "metadata": {
        "id": "8c1c3949-fc08-4d19-a41e-1c235b4e631b",
        "outputId": "ef4fdf28-46c6-466f-c4c7-fddc093151fa",
        "colab": {
          "base_uri": "https://localhost:8080/"
        }
      },
      "outputs": [
        {
          "output_type": "stream",
          "name": "stdout",
          "text": [
            "keys.shape: torch.Size([6, 2])\n",
            "values.shape: torch.Size([6, 2])\n"
          ]
        }
      ],
      "source": [
        "keys = inputs @ W_key\n",
        "values = inputs @ W_value\n",
        "\n",
        "print(\"keys.shape:\", keys.shape)\n",
        "print(\"values.shape:\", values.shape)"
      ]
    },
    {
      "cell_type": "markdown",
      "id": "bac5dfd6-ade8-4e7b-b0c1-bed40aa24481",
      "metadata": {
        "id": "bac5dfd6-ade8-4e7b-b0c1-bed40aa24481"
      },
      "source": [
        "- 次のステップでは、**ステップ2 **で、クエリと各キーベクトルの間でDOT製品を計算することにより、非正規化された注意スコアを計算します。"
      ]
    },
    {
      "cell_type": "markdown",
      "id": "8ed0a2b7-5c50-4ede-90cf-7ad74412b3aa",
      "metadata": {
        "id": "8ed0a2b7-5c50-4ede-90cf-7ad74412b3aa"
      },
      "source": [
        "<img src=\"https://sebastianraschka.com/images/LLMs-from-scratch-images/ch03_compressed/15.webp\" width=\"600px\">"
      ]
    },
    {
      "cell_type": "code",
      "execution_count": null,
      "id": "64cbc253-a182-4490-a765-246979ea0a28",
      "metadata": {
        "id": "64cbc253-a182-4490-a765-246979ea0a28",
        "outputId": "bfcb608d-131c-46e2-a587-2ac092cc3984",
        "colab": {
          "base_uri": "https://localhost:8080/"
        }
      },
      "outputs": [
        {
          "output_type": "stream",
          "name": "stdout",
          "text": [
            "tensor(1.8524)\n"
          ]
        }
      ],
      "source": [
        "keys_2 = keys[1] # Python starts index at 0\n",
        "attn_score_22 = query_2.dot(keys_2)\n",
        "print(attn_score_22)"
      ]
    },
    {
      "cell_type": "markdown",
      "id": "9e9d15c0-c24e-4e6f-a160-6349b418f935",
      "metadata": {
        "id": "9e9d15c0-c24e-4e6f-a160-6349b418f935"
      },
      "source": [
        "-  6つの入力があるため、指定されたクエリベクトルに6つの注意スコアがあります。"
      ]
    },
    {
      "cell_type": "code",
      "execution_count": null,
      "id": "b14e44b5-d170-40f9-8847-8990804af26d",
      "metadata": {
        "id": "b14e44b5-d170-40f9-8847-8990804af26d",
        "outputId": "0100b29c-49da-40e1-b077-993bdd4ce29a",
        "colab": {
          "base_uri": "https://localhost:8080/"
        }
      },
      "outputs": [
        {
          "output_type": "stream",
          "name": "stdout",
          "text": [
            "tensor([1.2705, 1.8524, 1.8111, 1.0795, 0.5577, 1.5440])\n"
          ]
        }
      ],
      "source": [
        "attn_scores_2 = query_2 @ keys.T # All attention scores for given query\n",
        "print(attn_scores_2)"
      ]
    },
    {
      "cell_type": "markdown",
      "id": "8622cf39-155f-4eb5-a0c0-82a03ce9b999",
      "metadata": {
        "id": "8622cf39-155f-4eb5-a0c0-82a03ce9b999"
      },
      "source": [
        "<img src=\"https://sebastianraschka.com/images/LLMs-from-scratch-images/ch03_compressed/16.webp\" width=\"600px\">"
      ]
    },
    {
      "cell_type": "markdown",
      "id": "e1609edb-f089-461a-8de2-c20c1bb29836",
      "metadata": {
        "id": "e1609edb-f089-461a-8de2-c20c1bb29836"
      },
      "source": [
        "- 次に、**ステップ3 **で、以前に使用したSoftMax関数を使用して、注意の重み（合計1までの正規化された注意スコア）を計算します\n",
        "- 以前の違いは、埋め込み寸法の平方根で除算することにより、注意スコアをスケーリングすることです。"
      ]
    },
    {
      "cell_type": "code",
      "execution_count": null,
      "id": "146f5587-c845-4e30-9894-c7ed3a248153",
      "metadata": {
        "id": "146f5587-c845-4e30-9894-c7ed3a248153",
        "outputId": "a6a208e5-fe9e-4e6a-996d-1a36d2cc3368",
        "colab": {
          "base_uri": "https://localhost:8080/"
        }
      },
      "outputs": [
        {
          "output_type": "stream",
          "name": "stdout",
          "text": [
            "tensor([0.1500, 0.2264, 0.2199, 0.1311, 0.0906, 0.1820])\n"
          ]
        }
      ],
      "source": [
        "d_k = keys.shape[1]\n",
        "attn_weights_2 = torch.softmax(attn_scores_2 / d_k**0.5, dim=-1)\n",
        "print(attn_weights_2)"
      ]
    },
    {
      "cell_type": "markdown",
      "id": "b8f61a28-b103-434a-aee1-ae7cbd821126",
      "metadata": {
        "id": "b8f61a28-b103-434a-aee1-ae7cbd821126"
      },
      "source": [
        "<img src=\"https://sebastianraschka.com/images/LLMs-from-scratch-images/ch03_compressed/17.webp\" width=\"600px\">"
      ]
    },
    {
      "cell_type": "markdown",
      "id": "1890e3f9-db86-4ab8-9f3b-53113504a61f",
      "metadata": {
        "id": "1890e3f9-db86-4ab8-9f3b-53113504a61f"
      },
      "source": [
        "-in **ステップ4 **で、入力クエリベクトル2のコンテキストベクトルを計算します。"
      ]
    },
    {
      "cell_type": "code",
      "execution_count": null,
      "id": "e138f033-fa7e-4e3a-8764-b53a96b26397",
      "metadata": {
        "id": "e138f033-fa7e-4e3a-8764-b53a96b26397",
        "outputId": "e19f824d-b0b5-4d6a-9cfb-63992015d593",
        "colab": {
          "base_uri": "https://localhost:8080/"
        }
      },
      "outputs": [
        {
          "output_type": "stream",
          "name": "stdout",
          "text": [
            "tensor([0.3061, 0.8210])\n"
          ]
        }
      ],
      "source": [
        "context_vec_2 = attn_weights_2 @ values\n",
        "print(context_vec_2)"
      ]
    },
    {
      "cell_type": "markdown",
      "id": "9d7b2907-e448-473e-b46c-77735a7281d8",
      "metadata": {
        "id": "9d7b2907-e448-473e-b46c-77735a7281d8"
      },
      "source": [
        "### 3.4.2コンパクトな自己競争クラスの実装"
      ]
    },
    {
      "cell_type": "markdown",
      "id": "04313410-3155-4d90-a7a3-2f3386e73677",
      "metadata": {
        "id": "04313410-3155-4d90-a7a3-2f3386e73677"
      },
      "source": [
        "- それをすべてまとめると、次のように自己触媒メカニズムを実装できます。"
      ]
    },
    {
      "cell_type": "code",
      "execution_count": null,
      "id": "51590326-cdbe-4e62-93b1-17df71c11ee4",
      "metadata": {
        "id": "51590326-cdbe-4e62-93b1-17df71c11ee4",
        "outputId": "3edd96e1-705e-469e-9781-59148a3dc8f5",
        "colab": {
          "base_uri": "https://localhost:8080/"
        }
      },
      "outputs": [
        {
          "output_type": "stream",
          "name": "stdout",
          "text": [
            "tensor([[0.2996, 0.8053],\n",
            "        [0.3061, 0.8210],\n",
            "        [0.3058, 0.8203],\n",
            "        [0.2948, 0.7939],\n",
            "        [0.2927, 0.7891],\n",
            "        [0.2990, 0.8040]], grad_fn=<MmBackward0>)\n"
          ]
        }
      ],
      "source": [
        "import torch.nn as nn\n",
        "\n",
        "class SelfAttention_v1(nn.Module):\n",
        "\n",
        "    def __init__(self, d_in, d_out):\n",
        "        super().__init__()\n",
        "        self.W_query = nn.Parameter(torch.rand(d_in, d_out))\n",
        "        self.W_key   = nn.Parameter(torch.rand(d_in, d_out))\n",
        "        self.W_value = nn.Parameter(torch.rand(d_in, d_out))\n",
        "\n",
        "    def forward(self, x):\n",
        "        keys = x @ self.W_key\n",
        "        queries = x @ self.W_query\n",
        "        values = x @ self.W_value\n",
        "\n",
        "        attn_scores = queries @ keys.T # omega\n",
        "        attn_weights = torch.softmax(\n",
        "            attn_scores / keys.shape[-1]**0.5, dim=-1\n",
        "        )\n",
        "\n",
        "        context_vec = attn_weights @ values\n",
        "        return context_vec\n",
        "\n",
        "torch.manual_seed(123)\n",
        "sa_v1 = SelfAttention_v1(d_in, d_out)\n",
        "print(sa_v1(inputs))"
      ]
    },
    {
      "cell_type": "markdown",
      "id": "7ee1a024-84a5-425a-9567-54ab4e4ed445",
      "metadata": {
        "id": "7ee1a024-84a5-425a-9567-54ab4e4ed445"
      },
      "source": [
        "<img src=\"https://sebastianraschka.com/images/LLMs-from-scratch-images/ch03_compressed/18.webp\" width=\"400px\">"
      ]
    },
    {
      "cell_type": "markdown",
      "id": "048e0c16-d911-4ec8-b0bc-45ceec75c081",
      "metadata": {
        "id": "048e0c16-d911-4ec8-b0bc-45ceec75c081"
      },
      "source": [
        "-Pytorchの線形層を使用して上記の実装を合理化できます。これは、バイアスユニットを無効にするとマトリックスの乗算に相当します。\n",
        "- マニュアルで `nn.linear`を使用するもう1つの大きな利点` nn.parameter（torch.rand（...） `アプローチは、` nn.linear`が優先重量初期化スキームを持っていることであり、より安定したモデルトレーニングにつながることです"
      ]
    },
    {
      "cell_type": "code",
      "execution_count": null,
      "id": "73f411e3-e231-464a-89fe-0a9035e5f839",
      "metadata": {
        "id": "73f411e3-e231-464a-89fe-0a9035e5f839",
        "outputId": "4803c615-3416-42df-bc2a-a75ebf773fa3",
        "colab": {
          "base_uri": "https://localhost:8080/"
        }
      },
      "outputs": [
        {
          "output_type": "stream",
          "name": "stdout",
          "text": [
            "tensor([[-0.0739,  0.0713],\n",
            "        [-0.0748,  0.0703],\n",
            "        [-0.0749,  0.0702],\n",
            "        [-0.0760,  0.0685],\n",
            "        [-0.0763,  0.0679],\n",
            "        [-0.0754,  0.0693]], grad_fn=<MmBackward0>)\n"
          ]
        }
      ],
      "source": [
        "class SelfAttention_v2(nn.Module):\n",
        "\n",
        "    def __init__(self, d_in, d_out, qkv_bias=False):\n",
        "        super().__init__()\n",
        "        self.W_query = nn.Linear(d_in, d_out, bias=qkv_bias)\n",
        "        self.W_key   = nn.Linear(d_in, d_out, bias=qkv_bias)\n",
        "        self.W_value = nn.Linear(d_in, d_out, bias=qkv_bias)\n",
        "\n",
        "    def forward(self, x):\n",
        "        keys = self.W_key(x)\n",
        "        queries = self.W_query(x)\n",
        "        values = self.W_value(x)\n",
        "\n",
        "        attn_scores = queries @ keys.T\n",
        "        attn_weights = torch.softmax(attn_scores / keys.shape[-1]**0.5, dim=-1)\n",
        "\n",
        "        context_vec = attn_weights @ values\n",
        "        return context_vec\n",
        "\n",
        "torch.manual_seed(789)\n",
        "sa_v2 = SelfAttention_v2(d_in, d_out)\n",
        "print(sa_v2(inputs))"
      ]
    },
    {
      "cell_type": "markdown",
      "id": "915cd8a5-a895-42c9-8b8e-06b5ae19ffce",
      "metadata": {
        "id": "915cd8a5-a895-42c9-8b8e-06b5ae19ffce"
      },
      "source": [
        "-  `selfattention_v1`および` selfattention_v2`は、重量行列に異なる初期重みを使用するため、異なる出力を与えることに注意してください"
      ]
    },
    {
      "cell_type": "markdown",
      "id": "c5025b37-0f2c-4a67-a7cb-1286af7026ab",
      "metadata": {
        "id": "c5025b37-0f2c-4a67-a7cb-1286af7026ab"
      },
      "source": [
        "## 3.5将来の単語を因果的な注意を払って隠す"
      ]
    },
    {
      "cell_type": "markdown",
      "id": "aef0a6b8-205a-45bf-9d26-8fd77a8a03c3",
      "metadata": {
        "id": "aef0a6b8-205a-45bf-9d26-8fd77a8a03c3"
      },
      "source": [
        "- 因果関係において、対角線の上の注意の重みがマスクされており、特定の入力について、LLMが注意重量でコンテキストベクトルを計算しながら将来のトークンを利用できないことを保証します"
      ]
    },
    {
      "cell_type": "markdown",
      "id": "71e91bb5-5aae-4f05-8a95-973b3f988a35",
      "metadata": {
        "id": "71e91bb5-5aae-4f05-8a95-973b3f988a35"
      },
      "source": [
        "<img src=\"https://sebastianraschka.com/images/LLMs-from-scratch-images/ch03_compressed/19.webp\" width=\"400px\">"
      ]
    },
    {
      "cell_type": "markdown",
      "id": "82f405de-cd86-4e72-8f3c-9ea0354946ba",
      "metadata": {
        "id": "82f405de-cd86-4e72-8f3c-9ea0354946ba"
      },
      "source": [
        "### 3.5.1因果注意マスクの適用"
      ]
    },
    {
      "cell_type": "markdown",
      "id": "014f28d0-8218-48e4-8b9c-bdc5ce489218",
      "metadata": {
        "id": "014f28d0-8218-48e4-8b9c-bdc5ce489218"
      },
      "source": [
        "- このセクションでは、以前の自己関節メカニズムを因果的自己触たちメカニズムに変換しています\n",
        "- 因果的自己触媒により、シーケンス内の特定の位置に対するモデルの予測が、将来の位置ではなく、以前の位置での既知の出力にのみ依存することを保証します\n",
        "- 簡単に言えば、これにより、次の単語の予測がそれぞれ前の単語のみに依存することが保証されます\n",
        "- これを達成するために、与えられたトークンごとに、将来のトークン（入力テキストの現在のトークンの後に来るトークン）をマスクします。"
      ]
    },
    {
      "cell_type": "markdown",
      "id": "57f99af3-32bc-48f5-8eb4-63504670ca0a",
      "metadata": {
        "id": "57f99af3-32bc-48f5-8eb4-63504670ca0a"
      },
      "source": [
        "<img src=\"https://sebastianraschka.com/images/LLMs-from-scratch-images/ch03_compressed/20.webp\" width=\"600px\">"
      ]
    },
    {
      "cell_type": "markdown",
      "id": "cbfaec7a-68f2-4157-a4b5-2aeceed199d9",
      "metadata": {
        "id": "cbfaec7a-68f2-4157-a4b5-2aeceed199d9"
      },
      "source": [
        "- 因果的な自己告発を説明し、実装するには、前のセクションの注意スコアと重みで作業しましょう。"
      ]
    },
    {
      "cell_type": "code",
      "execution_count": null,
      "id": "1933940d-0fa5-4b17-a3ce-388e5314a1bb",
      "metadata": {
        "id": "1933940d-0fa5-4b17-a3ce-388e5314a1bb",
        "outputId": "a4a93fbb-1e3e-4010-94f8-7773c46df335",
        "colab": {
          "base_uri": "https://localhost:8080/"
        }
      },
      "outputs": [
        {
          "output_type": "stream",
          "name": "stdout",
          "text": [
            "tensor([[0.1921, 0.1646, 0.1652, 0.1550, 0.1721, 0.1510],\n",
            "        [0.2041, 0.1659, 0.1662, 0.1496, 0.1665, 0.1477],\n",
            "        [0.2036, 0.1659, 0.1662, 0.1498, 0.1664, 0.1480],\n",
            "        [0.1869, 0.1667, 0.1668, 0.1571, 0.1661, 0.1564],\n",
            "        [0.1830, 0.1669, 0.1670, 0.1588, 0.1658, 0.1585],\n",
            "        [0.1935, 0.1663, 0.1666, 0.1542, 0.1666, 0.1529]],\n",
            "       grad_fn=<SoftmaxBackward0>)\n"
          ]
        }
      ],
      "source": [
        "# Reuse the query and key weight matrices of the\n",
        "# SelfAttention_v2 object from the previous section for convenience\n",
        "queries = sa_v2.W_query(inputs)\n",
        "keys = sa_v2.W_key(inputs)\n",
        "attn_scores = queries @ keys.T\n",
        "\n",
        "attn_weights = torch.softmax(attn_scores / keys.shape[-1]**0.5, dim=-1)\n",
        "print(attn_weights)"
      ]
    },
    {
      "cell_type": "markdown",
      "id": "89020a96-b34d-41f8-9349-98c3e23fd5d6",
      "metadata": {
        "id": "89020a96-b34d-41f8-9349-98c3e23fd5d6"
      },
      "source": [
        "- 将来の注意の重みをマスクする最も簡単な方法は、メインの対角線（対角線自体を含む）の下に設定されたメインの対角線設定の上に設定された要素の下にある要素を使用して、PytorchのTRIL関数を介してマスクを作成することです。"
      ]
    },
    {
      "cell_type": "code",
      "execution_count": null,
      "id": "43f3d2e3-185b-4184-9f98-edde5e6df746",
      "metadata": {
        "id": "43f3d2e3-185b-4184-9f98-edde5e6df746",
        "outputId": "d0866cd6-38f5-4abb-afa3-046f495f256d",
        "colab": {
          "base_uri": "https://localhost:8080/"
        }
      },
      "outputs": [
        {
          "output_type": "stream",
          "name": "stdout",
          "text": [
            "tensor([[1., 0., 0., 0., 0., 0.],\n",
            "        [1., 1., 0., 0., 0., 0.],\n",
            "        [1., 1., 1., 0., 0., 0.],\n",
            "        [1., 1., 1., 1., 0., 0.],\n",
            "        [1., 1., 1., 1., 1., 0.],\n",
            "        [1., 1., 1., 1., 1., 1.]])\n"
          ]
        }
      ],
      "source": [
        "context_length = attn_scores.shape[0]\n",
        "mask_simple = torch.tril(torch.ones(context_length, context_length))\n",
        "print(mask_simple)"
      ]
    },
    {
      "cell_type": "markdown",
      "id": "efce2b08-3583-44da-b3fc-cabdd38761f6",
      "metadata": {
        "id": "efce2b08-3583-44da-b3fc-cabdd38761f6"
      },
      "source": [
        "- 次に、このマスクで注意の重みを掛けて、対角線上の注意スコアをゼロにすることができます。"
      ]
    },
    {
      "cell_type": "code",
      "execution_count": null,
      "id": "9f531e2e-f4d2-4fea-a87f-4c132e48b9e7",
      "metadata": {
        "id": "9f531e2e-f4d2-4fea-a87f-4c132e48b9e7",
        "outputId": "b99c9984-8f45-404d-ead2-5137fb24a3c8",
        "colab": {
          "base_uri": "https://localhost:8080/"
        }
      },
      "outputs": [
        {
          "output_type": "stream",
          "name": "stdout",
          "text": [
            "tensor([[0.1921, 0.0000, 0.0000, 0.0000, 0.0000, 0.0000],\n",
            "        [0.2041, 0.1659, 0.0000, 0.0000, 0.0000, 0.0000],\n",
            "        [0.2036, 0.1659, 0.1662, 0.0000, 0.0000, 0.0000],\n",
            "        [0.1869, 0.1667, 0.1668, 0.1571, 0.0000, 0.0000],\n",
            "        [0.1830, 0.1669, 0.1670, 0.1588, 0.1658, 0.0000],\n",
            "        [0.1935, 0.1663, 0.1666, 0.1542, 0.1666, 0.1529]],\n",
            "       grad_fn=<MulBackward0>)\n"
          ]
        }
      ],
      "source": [
        "masked_simple = attn_weights*mask_simple\n",
        "print(masked_simple)"
      ]
    },
    {
      "cell_type": "markdown",
      "id": "3eb35787-cf12-4024-b66d-e7215e175500",
      "metadata": {
        "id": "3eb35787-cf12-4024-b66d-e7215e175500"
      },
      "source": [
        "- ただし、上記のようにソフトマックスの後にマスクが適用された場合、softmaxによって作成された確率分布が破壊されます\n",
        "-SoftMaxは、すべての出力値の合計が1に保証されます\n",
        "- ソフトマックスの後のマスキングでは、出力を再び合計するように再び正規化する必要があります。これにより、プロセスが複雑になり、意図しない効果が発生する可能性があります"
      ]
    },
    {
      "cell_type": "markdown",
      "id": "94db92d7-c397-4e42-bd8a-6a2b3e237e0f",
      "metadata": {
        "id": "94db92d7-c397-4e42-bd8a-6a2b3e237e0f"
      },
      "source": [
        "- 行が1に合計されることを確認するには、次のように注意の重みを正規化できます。"
      ]
    },
    {
      "cell_type": "code",
      "execution_count": null,
      "id": "6d392083-fd81-4f70-9bdf-8db985e673d6",
      "metadata": {
        "id": "6d392083-fd81-4f70-9bdf-8db985e673d6",
        "outputId": "f9a893b4-6a9d-457e-bbe2-91bacf396c7f",
        "colab": {
          "base_uri": "https://localhost:8080/"
        }
      },
      "outputs": [
        {
          "output_type": "stream",
          "name": "stdout",
          "text": [
            "tensor([[1.0000, 0.0000, 0.0000, 0.0000, 0.0000, 0.0000],\n",
            "        [0.5517, 0.4483, 0.0000, 0.0000, 0.0000, 0.0000],\n",
            "        [0.3800, 0.3097, 0.3103, 0.0000, 0.0000, 0.0000],\n",
            "        [0.2758, 0.2460, 0.2462, 0.2319, 0.0000, 0.0000],\n",
            "        [0.2175, 0.1983, 0.1984, 0.1888, 0.1971, 0.0000],\n",
            "        [0.1935, 0.1663, 0.1666, 0.1542, 0.1666, 0.1529]],\n",
            "       grad_fn=<DivBackward0>)\n"
          ]
        }
      ],
      "source": [
        "row_sums = masked_simple.sum(dim=-1, keepdim=True)\n",
        "masked_simple_norm = masked_simple / row_sums\n",
        "print(masked_simple_norm)"
      ]
    },
    {
      "cell_type": "markdown",
      "id": "512e7cf4-dc0e-4cec-948e-c7a3c4eb6877",
      "metadata": {
        "id": "512e7cf4-dc0e-4cec-948e-c7a3c4eb6877"
      },
      "source": [
        "- 今すぐ因果注意メカニズムのコーディングを技術的に完了していますが、上記と同じようにより効率的なアプローチを簡単に見てみましょう\n",
        "- したがって、結果を斜めにゼロをゼロにして結果を繰り返す代わりに、ソフトマックス関数を入力する前に、負の無限で対角線上の非正規化された注意スコアをマスクすることができます。"
      ]
    },
    {
      "cell_type": "markdown",
      "id": "eb682900-8df2-4767-946c-a82bee260188",
      "metadata": {
        "id": "eb682900-8df2-4767-946c-a82bee260188"
      },
      "source": [
        "<img src=\"https://sebastianraschka.com/images/LLMs-from-scratch-images/ch03_compressed/21.webp\" width=\"450px\">"
      ]
    },
    {
      "cell_type": "code",
      "execution_count": null,
      "id": "a2be2f43-9cf0-44f6-8d8b-68ef2fb3cc39",
      "metadata": {
        "id": "a2be2f43-9cf0-44f6-8d8b-68ef2fb3cc39",
        "outputId": "5c54d753-d510-429c-ea8d-dfd128af2229",
        "colab": {
          "base_uri": "https://localhost:8080/"
        }
      },
      "outputs": [
        {
          "output_type": "stream",
          "name": "stdout",
          "text": [
            "tensor([[0.2899,   -inf,   -inf,   -inf,   -inf,   -inf],\n",
            "        [0.4656, 0.1723,   -inf,   -inf,   -inf,   -inf],\n",
            "        [0.4594, 0.1703, 0.1731,   -inf,   -inf,   -inf],\n",
            "        [0.2642, 0.1024, 0.1036, 0.0186,   -inf,   -inf],\n",
            "        [0.2183, 0.0874, 0.0882, 0.0177, 0.0786,   -inf],\n",
            "        [0.3408, 0.1270, 0.1290, 0.0198, 0.1290, 0.0078]],\n",
            "       grad_fn=<MaskedFillBackward0>)\n"
          ]
        }
      ],
      "source": [
        "mask = torch.triu(torch.ones(context_length, context_length), diagonal=1)\n",
        "masked = attn_scores.masked_fill(mask.bool(), -torch.inf)\n",
        "print(masked)"
      ]
    },
    {
      "cell_type": "markdown",
      "id": "91d5f803-d735-4543-b9da-00ac10fb9c50",
      "metadata": {
        "id": "91d5f803-d735-4543-b9da-00ac10fb9c50"
      },
      "source": [
        "- 以下に示すように、各行の注意の重みは再び正しく1に合計されます。"
      ]
    },
    {
      "cell_type": "code",
      "execution_count": null,
      "id": "b1cd6d7f-16f2-43c1-915e-0824f1a4bc52",
      "metadata": {
        "id": "b1cd6d7f-16f2-43c1-915e-0824f1a4bc52",
        "outputId": "ed8fbddd-995f-47f9-82f9-d5d71b9cfe10",
        "colab": {
          "base_uri": "https://localhost:8080/"
        }
      },
      "outputs": [
        {
          "output_type": "stream",
          "name": "stdout",
          "text": [
            "tensor([[1.0000, 0.0000, 0.0000, 0.0000, 0.0000, 0.0000],\n",
            "        [0.5517, 0.4483, 0.0000, 0.0000, 0.0000, 0.0000],\n",
            "        [0.3800, 0.3097, 0.3103, 0.0000, 0.0000, 0.0000],\n",
            "        [0.2758, 0.2460, 0.2462, 0.2319, 0.0000, 0.0000],\n",
            "        [0.2175, 0.1983, 0.1984, 0.1888, 0.1971, 0.0000],\n",
            "        [0.1935, 0.1663, 0.1666, 0.1542, 0.1666, 0.1529]],\n",
            "       grad_fn=<SoftmaxBackward0>)\n"
          ]
        }
      ],
      "source": [
        "attn_weights = torch.softmax(masked / keys.shape[-1]**0.5, dim=-1)\n",
        "print(attn_weights)"
      ]
    },
    {
      "cell_type": "markdown",
      "id": "7636fc5f-6bc6-461e-ac6a-99ec8e3c0912",
      "metadata": {
        "id": "7636fc5f-6bc6-461e-ac6a-99ec8e3c0912"
      },
      "source": [
        "### 3.5.2ドロップアウトで追加の注意ウェイトをマスキングします"
      ]
    },
    {
      "cell_type": "markdown",
      "id": "ec3dc7ee-6539-4fab-804a-8f31a890c85a",
      "metadata": {
        "id": "ec3dc7ee-6539-4fab-804a-8f31a890c85a"
      },
      "source": [
        "- さらに、トレーニング中の過剰適合を減らすためにドロップアウトも適用します\n",
        "- ドロップアウトはいくつかの場所で適用できます。\n",
        "- たとえば、注意の重みを計算した後。\n",
        "- または注意の重量を値ベクトルで乗算した後\n",
        "- ここでは、注意の重みを計算した後、ドロップアウトマスクを適用します。\n",
        "\n",
        "- さらに、この特定の例では、50％のドロップアウト率を使用します。これは、注意力の半分をランダムにマスクアウトすることを意味します。（後でGPTモデルをトレーニングすると、0.1や0.2などの低ドロップアウト率を使用します。"
      ]
    },
    {
      "cell_type": "markdown",
      "id": "ee799cf6-6175-45f2-827e-c174afedb722",
      "metadata": {
        "id": "ee799cf6-6175-45f2-827e-c174afedb722"
      },
      "source": [
        "<img src=\"https://sebastianraschka.com/images/LLMs-from-scratch-images/ch03_compressed/22.webp\" width=\"400px\">"
      ]
    },
    {
      "cell_type": "markdown",
      "id": "5a575458-a6da-4e54-8688-83e155f2de06",
      "metadata": {
        "id": "5a575458-a6da-4e54-8688-83e155f2de06"
      },
      "source": [
        "-  0.5（50％）のドロップアウト率を適用すると、非ドロップ値が1/0.5 = 2の係数によってスケーリングされます。\n",
        "- スケーリングはF1 /（1- `Dropout_rate`）によって計算されます"
      ]
    },
    {
      "cell_type": "code",
      "execution_count": null,
      "id": "0de578db-8289-41d6-b377-ef645751e33f",
      "metadata": {
        "id": "0de578db-8289-41d6-b377-ef645751e33f",
        "outputId": "21a9e42d-5dc3-4831-d47a-8556dcf97ed6",
        "colab": {
          "base_uri": "https://localhost:8080/"
        }
      },
      "outputs": [
        {
          "output_type": "stream",
          "name": "stdout",
          "text": [
            "tensor([[2., 2., 2., 2., 2., 2.],\n",
            "        [0., 2., 0., 0., 0., 0.],\n",
            "        [0., 0., 2., 0., 2., 0.],\n",
            "        [2., 2., 0., 0., 0., 2.],\n",
            "        [2., 0., 0., 0., 0., 2.],\n",
            "        [0., 2., 0., 0., 0., 0.]])\n"
          ]
        }
      ],
      "source": [
        "torch.manual_seed(123)\n",
        "dropout = torch.nn.Dropout(0.5) # dropout rate of 50%\n",
        "example = torch.ones(6, 6) # create a matrix of ones\n",
        "\n",
        "print(dropout(example))"
      ]
    },
    {
      "cell_type": "code",
      "execution_count": null,
      "id": "b16c5edb-942b-458c-8e95-25e4e355381e",
      "metadata": {
        "id": "b16c5edb-942b-458c-8e95-25e4e355381e",
        "outputId": "f0eb405c-7700-4d86-85b7-2a61f3d21b25",
        "colab": {
          "base_uri": "https://localhost:8080/"
        }
      },
      "outputs": [
        {
          "output_type": "stream",
          "name": "stdout",
          "text": [
            "tensor([[2.0000, 0.0000, 0.0000, 0.0000, 0.0000, 0.0000],\n",
            "        [0.0000, 0.8966, 0.0000, 0.0000, 0.0000, 0.0000],\n",
            "        [0.0000, 0.0000, 0.6206, 0.0000, 0.0000, 0.0000],\n",
            "        [0.5517, 0.4921, 0.0000, 0.0000, 0.0000, 0.0000],\n",
            "        [0.4350, 0.0000, 0.0000, 0.0000, 0.0000, 0.0000],\n",
            "        [0.0000, 0.3327, 0.0000, 0.0000, 0.0000, 0.0000]],\n",
            "       grad_fn=<MulBackward0>)\n"
          ]
        }
      ],
      "source": [
        "torch.manual_seed(123)\n",
        "print(dropout(attn_weights))"
      ]
    },
    {
      "cell_type": "markdown",
      "id": "269df5c8-3e25-49d0-95d3-bb232287404f",
      "metadata": {
        "id": "269df5c8-3e25-49d0-95d3-bb232287404f"
      },
      "source": [
        "- Note that the resulting dropout outputs may look different depending on your operating system; you can read more about this inconsistency [here on the PyTorch issue tracker](https://github.com/pytorch/pytorch/issues/121595)"
      ]
    },
    {
      "cell_type": "markdown",
      "id": "cdc14639-5f0f-4840-aa9d-8eb36ea90fb7",
      "metadata": {
        "id": "cdc14639-5f0f-4840-aa9d-8eb36ea90fb7"
      },
      "source": [
        "### 3.5.3コンパクトな因果関係クラスの実装"
      ]
    },
    {
      "cell_type": "markdown",
      "id": "09c41d29-1933-43dc-ada6-2dbb56287204",
      "metadata": {
        "id": "09c41d29-1933-43dc-ada6-2dbb56287204"
      },
      "source": [
        "- 今、私たちは因果関係やドロップアウトマスクを含む、自己attentionの実用的な実装を実装する準備ができています\n",
        "- もう1つは、「Caselattention」クラスが第2章で実装したデータローダーによって生成されたバッチ出力をサポートするように、複数の入力で構成されるバッチを処理するコードを実装することです。\n",
        "- 簡単にするために、このようなバッチ入力をシミュレートするために、入力テキストの例を複製します。"
      ]
    },
    {
      "cell_type": "code",
      "execution_count": null,
      "id": "977a5fa7-a9d5-4e2e-8a32-8e0331ccfe28",
      "metadata": {
        "id": "977a5fa7-a9d5-4e2e-8a32-8e0331ccfe28",
        "outputId": "cf360aa2-072c-42ee-877a-b8db1ab11487",
        "colab": {
          "base_uri": "https://localhost:8080/"
        }
      },
      "outputs": [
        {
          "output_type": "stream",
          "name": "stdout",
          "text": [
            "torch.Size([2, 6, 3])\n"
          ]
        }
      ],
      "source": [
        "batch = torch.stack((inputs, inputs), dim=0)\n",
        "print(batch.shape) # 2 inputs with 6 tokens each, and each token has embedding dimension 3"
      ]
    },
    {
      "cell_type": "code",
      "execution_count": null,
      "id": "60d8c2eb-2d8e-4d2c-99bc-9eef8cc53ca0",
      "metadata": {
        "id": "60d8c2eb-2d8e-4d2c-99bc-9eef8cc53ca0",
        "outputId": "4e3bdd0f-d4ef-4cc2-8c89-9d9253aeffac",
        "colab": {
          "base_uri": "https://localhost:8080/"
        }
      },
      "outputs": [
        {
          "output_type": "stream",
          "name": "stdout",
          "text": [
            "tensor([[[-0.4519,  0.2216],\n",
            "         [-0.5874,  0.0058],\n",
            "         [-0.6300, -0.0632],\n",
            "         [-0.5675, -0.0843],\n",
            "         [-0.5526, -0.0981],\n",
            "         [-0.5299, -0.1081]],\n",
            "\n",
            "        [[-0.4519,  0.2216],\n",
            "         [-0.5874,  0.0058],\n",
            "         [-0.6300, -0.0632],\n",
            "         [-0.5675, -0.0843],\n",
            "         [-0.5526, -0.0981],\n",
            "         [-0.5299, -0.1081]]], grad_fn=<UnsafeViewBackward0>)\n",
            "context_vecs.shape: torch.Size([2, 6, 2])\n"
          ]
        }
      ],
      "source": [
        "class CausalAttention(nn.Module):\n",
        "\n",
        "    def __init__(self, d_in, d_out, context_length,\n",
        "                 dropout, qkv_bias=False):\n",
        "        super().__init__()\n",
        "        self.d_out = d_out\n",
        "        self.W_query = nn.Linear(d_in, d_out, bias=qkv_bias)\n",
        "        self.W_key   = nn.Linear(d_in, d_out, bias=qkv_bias)\n",
        "        self.W_value = nn.Linear(d_in, d_out, bias=qkv_bias)\n",
        "        self.dropout = nn.Dropout(dropout) # New\n",
        "        self.register_buffer('mask', torch.triu(torch.ones(context_length, context_length), diagonal=1)) # New\n",
        "\n",
        "    def forward(self, x):\n",
        "        b, num_tokens, d_in = x.shape # New batch dimension b\n",
        "        # For inputs where `num_tokens` exceeds `context_length`, this will result in errors\n",
        "        # in the mask creation further below.\n",
        "        # In practice, this is not a problem since the LLM (chapters 4-7) ensures that inputs\n",
        "        # do not exceed `context_length` before reaching this forward method.\n",
        "        keys = self.W_key(x)\n",
        "        queries = self.W_query(x)\n",
        "        values = self.W_value(x)\n",
        "\n",
        "        attn_scores = queries @ keys.transpose(1, 2) # Changed transpose\n",
        "        attn_scores.masked_fill_(  # New, _ ops are in-place\n",
        "            self.mask.bool()[:num_tokens, :num_tokens], -torch.inf)  # `:num_tokens` to account for cases where the number of tokens in the batch is smaller than the supported context_size\n",
        "        attn_weights = torch.softmax(\n",
        "            attn_scores / keys.shape[-1]**0.5, dim=-1\n",
        "        )\n",
        "        attn_weights = self.dropout(attn_weights) # New\n",
        "\n",
        "        context_vec = attn_weights @ values\n",
        "        return context_vec\n",
        "\n",
        "torch.manual_seed(123)\n",
        "\n",
        "context_length = batch.shape[1]\n",
        "ca = CausalAttention(d_in, d_out, context_length, 0.0)\n",
        "\n",
        "context_vecs = ca(batch)\n",
        "\n",
        "print(context_vecs)\n",
        "print(\"context_vecs.shape:\", context_vecs.shape)"
      ]
    },
    {
      "cell_type": "markdown",
      "id": "c4333d12-17e4-4bb5-9d83-54b3a32618cd",
      "metadata": {
        "id": "c4333d12-17e4-4bb5-9d83-54b3a32618cd"
      },
      "source": [
        "- ドロップアウトは、トレーニング中にのみ適用され、推論中ではないことに注意してください"
      ]
    },
    {
      "cell_type": "markdown",
      "id": "a554cf47-558c-4f45-84cd-bf9b839a8d50",
      "metadata": {
        "id": "a554cf47-558c-4f45-84cd-bf9b839a8d50"
      },
      "source": [
        "<img src=\"https://sebastianraschka.com/images/LLMs-from-scratch-images/ch03_compressed/23.webp\" width=\"500px\">"
      ]
    },
    {
      "cell_type": "markdown",
      "id": "c8bef90f-cfd4-4289-b0e8-6a00dc9be44c",
      "metadata": {
        "id": "c8bef90f-cfd4-4289-b0e8-6a00dc9be44c"
      },
      "source": [
        "## 3.6マルチヘッドの注意へのシングルヘッドの注意を拡張します"
      ]
    },
    {
      "cell_type": "markdown",
      "id": "11697757-9198-4a1c-9cee-f450d8bbd3b9",
      "metadata": {
        "id": "11697757-9198-4a1c-9cee-f450d8bbd3b9"
      },
      "source": [
        "### 3.6.1複数のシングルヘッドの注意レイヤーを積み重ねます"
      ]
    },
    {
      "cell_type": "markdown",
      "id": "70766faf-cd53-41d9-8a17-f1b229756a5a",
      "metadata": {
        "id": "70766faf-cd53-41d9-8a17-f1b229756a5a"
      },
      "source": [
        "- 以下は、以前に実装された自己関節の要約です（簡単にするために示されていない因果関係とドロップアウトマスク）\n",
        "\n",
        "- これはシングルヘッドの注意とも呼ばれます：<img src=\"https://sebastianraschka.com/images/LLMs-from-scratch-images/ch03_compressed/24.webp\" width=\"400px\">\n",
        "- 複数のシングルヘッド注意モジュールを積み重ねて、マルチヘッド注意モジュールを取得するだけです。<img src=\"https://sebastianraschka.com/images/LLMs-from-scratch-images/ch03_compressed/25.webp\" width=\"400px\">\n",
        "- マルチヘッドの注意の背後にある主なアイデアは、異なる学習された線形投影で注意メカニズムを複数回（並行して）実行することです。これにより、モデルは異なる位置の異なる表現サブスペースの情報に共同で参加できます。"
      ]
    },
    {
      "cell_type": "code",
      "execution_count": null,
      "id": "b9a66e11-7105-4bb4-be84-041f1a1f3bd2",
      "metadata": {
        "id": "b9a66e11-7105-4bb4-be84-041f1a1f3bd2",
        "outputId": "3a773e37-49fa-4e80-814a-a7971c7ccebd",
        "colab": {
          "base_uri": "https://localhost:8080/"
        }
      },
      "outputs": [
        {
          "output_type": "stream",
          "name": "stdout",
          "text": [
            "tensor([[[-0.4519,  0.2216,  0.4772,  0.1063],\n",
            "         [-0.5874,  0.0058,  0.5891,  0.3257],\n",
            "         [-0.6300, -0.0632,  0.6202,  0.3860],\n",
            "         [-0.5675, -0.0843,  0.5478,  0.3589],\n",
            "         [-0.5526, -0.0981,  0.5321,  0.3428],\n",
            "         [-0.5299, -0.1081,  0.5077,  0.3493]],\n",
            "\n",
            "        [[-0.4519,  0.2216,  0.4772,  0.1063],\n",
            "         [-0.5874,  0.0058,  0.5891,  0.3257],\n",
            "         [-0.6300, -0.0632,  0.6202,  0.3860],\n",
            "         [-0.5675, -0.0843,  0.5478,  0.3589],\n",
            "         [-0.5526, -0.0981,  0.5321,  0.3428],\n",
            "         [-0.5299, -0.1081,  0.5077,  0.3493]]], grad_fn=<CatBackward0>)\n",
            "context_vecs.shape: torch.Size([2, 6, 4])\n"
          ]
        }
      ],
      "source": [
        "class MultiHeadAttentionWrapper(nn.Module):\n",
        "\n",
        "    def __init__(self, d_in, d_out, context_length, dropout, num_heads, qkv_bias=False):\n",
        "        super().__init__()\n",
        "        self.heads = nn.ModuleList(\n",
        "            [CausalAttention(d_in, d_out, context_length, dropout, qkv_bias)\n",
        "             for _ in range(num_heads)]\n",
        "        )\n",
        "\n",
        "    def forward(self, x):\n",
        "        return torch.cat([head(x) for head in self.heads], dim=-1)\n",
        "\n",
        "\n",
        "torch.manual_seed(123)\n",
        "\n",
        "context_length = batch.shape[1] # This is the number of tokens\n",
        "d_in, d_out = 3, 2\n",
        "mha = MultiHeadAttentionWrapper(\n",
        "    d_in, d_out, context_length, 0.0, num_heads=2\n",
        ")\n",
        "\n",
        "context_vecs = mha(batch)\n",
        "\n",
        "print(context_vecs)\n",
        "print(\"context_vecs.shape:\", context_vecs.shape)"
      ]
    },
    {
      "cell_type": "markdown",
      "id": "193d3d2b-2578-40ba-b791-ea2d49328e48",
      "metadata": {
        "id": "193d3d2b-2578-40ba-b791-ea2d49328e48"
      },
      "source": [
        "- 上記の実装では、埋め込みディメンションは4です。これは、キー、クエリ、値ベクトルの埋め込みディメンション、およびコンテキストベクトルの埋め込みディメンションとして「D_out = 2」です。また、2つの注意ヘッドがあるため、出力埋め込みディメンション2*2 = 4があります。"
      ]
    },
    {
      "cell_type": "markdown",
      "id": "6836b5da-ef82-4b4c-bda1-72a462e48d4e",
      "metadata": {
        "id": "6836b5da-ef82-4b4c-bda1-72a462e48d4e"
      },
      "source": [
        "### 3.6.2重量スプリットでマルチヘッドの注意を実装します"
      ]
    },
    {
      "cell_type": "markdown",
      "id": "f4b48d0d-71ba-4fa0-b714-ca80cabcb6f7",
      "metadata": {
        "id": "f4b48d0d-71ba-4fa0-b714-ca80cabcb6f7"
      },
      "source": [
        "- 上記は、マルチヘッドの注意の直感的で完全に機能的な実装ですが（以前からの単一ヘッドの注意「因果関係」実装を包む）、「MultiHeadttention」と呼ばれるスタンドアロンクラスを書くことができます。\n",
        "\n",
        "- このスタンドアロンの「MultiHeadattention」クラスの単一の注意ヘッドを連結していません\n",
        "- 代わりに、単一のw_query、w_key、およびw_value重量行列を作成し、各注意ヘッドの個々のマトリックスにそれらを分割します。"
      ]
    },
    {
      "cell_type": "code",
      "execution_count": null,
      "id": "110b0188-6e9e-4e56-a988-10523c6c8538",
      "metadata": {
        "id": "110b0188-6e9e-4e56-a988-10523c6c8538",
        "outputId": "22dc5dbb-df71-479f-c06a-416063edcdaa",
        "colab": {
          "base_uri": "https://localhost:8080/"
        }
      },
      "outputs": [
        {
          "output_type": "stream",
          "name": "stdout",
          "text": [
            "tensor([[[0.3190, 0.4858],\n",
            "         [0.2943, 0.3897],\n",
            "         [0.2856, 0.3593],\n",
            "         [0.2693, 0.3873],\n",
            "         [0.2639, 0.3928],\n",
            "         [0.2575, 0.4028]],\n",
            "\n",
            "        [[0.3190, 0.4858],\n",
            "         [0.2943, 0.3897],\n",
            "         [0.2856, 0.3593],\n",
            "         [0.2693, 0.3873],\n",
            "         [0.2639, 0.3928],\n",
            "         [0.2575, 0.4028]]], grad_fn=<ViewBackward0>)\n",
            "context_vecs.shape: torch.Size([2, 6, 2])\n"
          ]
        }
      ],
      "source": [
        "class MultiHeadAttention(nn.Module):\n",
        "    def __init__(self, d_in, d_out, context_length, dropout, num_heads, qkv_bias=False):\n",
        "        super().__init__()\n",
        "        assert (d_out % num_heads == 0), \\\n",
        "            \"d_out must be divisible by num_heads\"\n",
        "\n",
        "        self.d_out = d_out\n",
        "        self.num_heads = num_heads\n",
        "        self.head_dim = d_out // num_heads # Reduce the projection dim to match desired output dim\n",
        "\n",
        "        self.W_query = nn.Linear(d_in, d_out, bias=qkv_bias)\n",
        "        self.W_key = nn.Linear(d_in, d_out, bias=qkv_bias)\n",
        "        self.W_value = nn.Linear(d_in, d_out, bias=qkv_bias)\n",
        "        self.out_proj = nn.Linear(d_out, d_out)  # Linear layer to combine head outputs\n",
        "        self.dropout = nn.Dropout(dropout)\n",
        "        self.register_buffer(\n",
        "            \"mask\",\n",
        "            torch.triu(torch.ones(context_length, context_length),\n",
        "                       diagonal=1)\n",
        "        )\n",
        "\n",
        "    def forward(self, x):\n",
        "        b, num_tokens, d_in = x.shape\n",
        "        # As in `CausalAttention`, for inputs where `num_tokens` exceeds `context_length`,\n",
        "        # this will result in errors in the mask creation further below.\n",
        "        # In practice, this is not a problem since the LLM (chapters 4-7) ensures that inputs\n",
        "        # do not exceed `context_length` before reaching this forwar\n",
        "\n",
        "        keys = self.W_key(x) # Shape: (b, num_tokens, d_out)\n",
        "        queries = self.W_query(x)\n",
        "        values = self.W_value(x)\n",
        "\n",
        "        # We implicitly split the matrix by adding a `num_heads` dimension\n",
        "        # Unroll last dim: (b, num_tokens, d_out) -> (b, num_tokens, num_heads, head_dim)\n",
        "        keys = keys.view(b, num_tokens, self.num_heads, self.head_dim)\n",
        "        values = values.view(b, num_tokens, self.num_heads, self.head_dim)\n",
        "        queries = queries.view(b, num_tokens, self.num_heads, self.head_dim)\n",
        "\n",
        "        # Transpose: (b, num_tokens, num_heads, head_dim) -> (b, num_heads, num_tokens, head_dim)\n",
        "        keys = keys.transpose(1, 2)\n",
        "        queries = queries.transpose(1, 2)\n",
        "        values = values.transpose(1, 2)\n",
        "\n",
        "        # Compute scaled dot-product attention (aka self-attention) with a causal mask\n",
        "        attn_scores = queries @ keys.transpose(2, 3)  # Dot product for each head\n",
        "\n",
        "        # Original mask truncated to the number of tokens and converted to boolean\n",
        "        mask_bool = self.mask.bool()[:num_tokens, :num_tokens]\n",
        "\n",
        "        # Use the mask to fill attention scores\n",
        "        attn_scores.masked_fill_(mask_bool, -torch.inf)\n",
        "\n",
        "        attn_weights = torch.softmax(attn_scores / keys.shape[-1]**0.5, dim=-1)\n",
        "        attn_weights = self.dropout(attn_weights)\n",
        "\n",
        "        # Shape: (b, num_tokens, num_heads, head_dim)\n",
        "        context_vec = (attn_weights @ values).transpose(1, 2)\n",
        "\n",
        "        # Combine heads, where self.d_out = self.num_heads * self.head_dim\n",
        "        context_vec = context_vec.contiguous().view(b, num_tokens, self.d_out)\n",
        "        context_vec = self.out_proj(context_vec) # optional projection\n",
        "\n",
        "        return context_vec\n",
        "\n",
        "torch.manual_seed(123)\n",
        "\n",
        "batch_size, context_length, d_in = batch.shape\n",
        "d_out = 2\n",
        "mha = MultiHeadAttention(d_in, d_out, context_length, 0.0, num_heads=2)\n",
        "\n",
        "context_vecs = mha(batch)\n",
        "\n",
        "print(context_vecs)\n",
        "print(\"context_vecs.shape:\", context_vecs.shape)"
      ]
    },
    {
      "cell_type": "markdown",
      "id": "d334dfb5-2b6c-4c33-82d5-b4e9db5867bb",
      "metadata": {
        "id": "d334dfb5-2b6c-4c33-82d5-b4e9db5867bb"
      },
      "source": [
        "- 上記は本質的に「multiheadtentionwrapper」の書き換えバージョンであることに注意してください。\n",
        "- 結果の出力は、ランダムな重みの初期化が異なるため、少し異なって見えますが、両方とも今後の章で実装するGPTクラスで使用できる完全に機能的な実装です\n",
        "- さらに、上記の「MultiHeadattention」クラスに線形投影層（ `self.out_proj`）を追加したことに注意してください。これは、寸法を変えない単なる線形変換です。LLM実装でこのような投影層を使用することは標準的な慣習ですが、厳密には必要ありません（最近の研究では、モデリングパフォーマンスに影響を与えることなく削除できることが示されています。この章の最後にある読書セクションを参照してください）"
      ]
    },
    {
      "cell_type": "markdown",
      "id": "dbe5d396-c990-45dc-9908-2c621461f851",
      "metadata": {
        "id": "dbe5d396-c990-45dc-9908-2c621461f851"
      },
      "source": [
        "<img src=\"https://sebastianraschka.com/images/LLMs-from-scratch-images/ch03_compressed/26.webp\" width=\"400px\">"
      ]
    },
    {
      "cell_type": "markdown",
      "id": "8b0ed78c-e8ac-4f8f-a479-a98242ae8f65",
      "metadata": {
        "id": "8b0ed78c-e8ac-4f8f-a479-a98242ae8f65"
      },
      "source": [
        "- Note that if you are interested in a compact and efficient implementation of the above, you can also consider the [`torch.nn.MultiheadAttention`](https://pytorch.org/docs/stable/generated/torch.nn.MultiheadAttention.html) class in PyTorch"
      ]
    },
    {
      "cell_type": "markdown",
      "id": "363701ad-2022-46c8-9972-390d2a2b9911",
      "metadata": {
        "id": "363701ad-2022-46c8-9972-390d2a2b9911"
      },
      "source": [
        "- 上記の実装は一見して少し複雑に見えるかもしれないので、 `attn_scores = queries @ keys.Transpose（2、3）`：を実行するときに何が起こるかを見てみましょう。"
      ]
    },
    {
      "cell_type": "code",
      "execution_count": null,
      "id": "e8cfc1ae-78ab-4faa-bc73-98bd054806c9",
      "metadata": {
        "id": "e8cfc1ae-78ab-4faa-bc73-98bd054806c9",
        "outputId": "75db241e-ccae-4f67-d874-07fce9e4dd43",
        "colab": {
          "base_uri": "https://localhost:8080/"
        }
      },
      "outputs": [
        {
          "output_type": "stream",
          "name": "stdout",
          "text": [
            "tensor([[[[1.3208, 1.1631, 1.2879],\n",
            "          [1.1631, 2.2150, 1.8424],\n",
            "          [1.2879, 1.8424, 2.0402]],\n",
            "\n",
            "         [[0.4391, 0.7003, 0.5903],\n",
            "          [0.7003, 1.3737, 1.0620],\n",
            "          [0.5903, 1.0620, 0.9912]]]])\n"
          ]
        }
      ],
      "source": [
        "# (b, num_heads, num_tokens, head_dim) = (1, 2, 3, 4)\n",
        "a = torch.tensor([[[[0.2745, 0.6584, 0.2775, 0.8573],\n",
        "                    [0.8993, 0.0390, 0.9268, 0.7388],\n",
        "                    [0.7179, 0.7058, 0.9156, 0.4340]],\n",
        "\n",
        "                   [[0.0772, 0.3565, 0.1479, 0.5331],\n",
        "                    [0.4066, 0.2318, 0.4545, 0.9737],\n",
        "                    [0.4606, 0.5159, 0.4220, 0.5786]]]])\n",
        "\n",
        "print(a @ a.transpose(2, 3))"
      ]
    },
    {
      "cell_type": "markdown",
      "id": "0587b946-c8f2-4888-adbf-5a5032fbfd7b",
      "metadata": {
        "id": "0587b946-c8f2-4888-adbf-5a5032fbfd7b"
      },
      "source": [
        "- この場合、Pytorchのマトリックス乗算実装は、4次元入力テンソルを処理して、マトリックスの乗算が2つの最後の寸法（num_tokens、head_dim）の間で実行され、個々のヘッドのために繰り返されるようになります。\n",
        "\n",
        "- たとえば、以下は、各ヘッドのマトリックス乗算を個別に計算するためのよりコンパクトな方法になります。"
      ]
    },
    {
      "cell_type": "code",
      "execution_count": null,
      "id": "053760f1-1a02-42f0-b3bf-3d939e407039",
      "metadata": {
        "id": "053760f1-1a02-42f0-b3bf-3d939e407039",
        "outputId": "7f14f2e6-5d31-4c10-9fd2-2656ce0b1191",
        "colab": {
          "base_uri": "https://localhost:8080/"
        }
      },
      "outputs": [
        {
          "output_type": "stream",
          "name": "stdout",
          "text": [
            "First head:\n",
            " tensor([[1.3208, 1.1631, 1.2879],\n",
            "        [1.1631, 2.2150, 1.8424],\n",
            "        [1.2879, 1.8424, 2.0402]])\n",
            "\n",
            "Second head:\n",
            " tensor([[0.4391, 0.7003, 0.5903],\n",
            "        [0.7003, 1.3737, 1.0620],\n",
            "        [0.5903, 1.0620, 0.9912]])\n"
          ]
        }
      ],
      "source": [
        "first_head = a[0, 0, :, :]\n",
        "first_res = first_head @ first_head.T\n",
        "print(\"First head:\\n\", first_res)\n",
        "\n",
        "second_head = a[0, 1, :, :]\n",
        "second_res = second_head @ second_head.T\n",
        "print(\"\\nSecond head:\\n\", second_res)"
      ]
    },
    {
      "cell_type": "markdown",
      "id": "dec671bf-7938-4304-ad1e-75d9920e7f43",
      "metadata": {
        "id": "dec671bf-7938-4304-ad1e-75d9920e7f43"
      },
      "source": [
        "＃概要とテイクアウト"
      ]
    },
    {
      "cell_type": "markdown",
      "id": "fa3e4113-ffca-432c-b3ec-7a50bd15da25",
      "metadata": {
        "id": "fa3e4113-ffca-432c-b3ec-7a50bd15da25"
      },
      "source": [
        "- See the [./multihead-attention.ipynb](./multihead-attention.ipynb) code notebook, which is a concise version of the data loader (chapter 2) plus the multi-head attention class that we implemented in this chapter and will need for training the GPT model in upcoming chapters\n",
        "- You can find the exercise solutions in [./exercise-solutions.ipynb](./exercise-solutions.ipynb)"
      ]
    }
  ],
  "metadata": {
    "kernelspec": {
      "display_name": "Python 3 (ipykernel)",
      "language": "python",
      "name": "python3"
    },
    "language_info": {
      "codemirror_mode": {
        "name": "ipython",
        "version": 3
      },
      "file_extension": ".py",
      "mimetype": "text/x-python",
      "name": "python",
      "nbconvert_exporter": "python",
      "pygments_lexer": "ipython3",
      "version": "3.10.16"
    },
    "colab": {
      "provenance": [],
      "include_colab_link": true
    }
  },
  "nbformat": 4,
  "nbformat_minor": 5
}