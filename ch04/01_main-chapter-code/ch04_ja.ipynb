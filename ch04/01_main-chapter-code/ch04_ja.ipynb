{
  "cells": [
    {
      "cell_type": "markdown",
      "metadata": {
        "id": "view-in-github",
        "colab_type": "text"
      },
      "source": [
        "<a href=\"https://colab.research.google.com/github/tyukei/LLMs-from-scratch/blob/japanese/ch04/01_main-chapter-code/ch04_ja.ipynb\" target=\"_parent\"><img src=\"https://colab.research.google.com/assets/colab-badge.svg\" alt=\"Open In Colab\"/></a>"
      ]
    },
    {
      "cell_type": "markdown",
      "id": "08f4321d-d32a-4a90-bfc7-e923f316b2f8",
      "metadata": {
        "id": "08f4321d-d32a-4a90-bfc7-e923f316b2f8"
      },
      "source": [
        "<table style=\"width:100%\">\n",
        "<tr>\n",
        "<td style=\"vertical-align:middle; text-align:left;\">\n",
        "<font size=\"2\">\n",
        "<a href = \"http://mng.bz/oryv\"の補足コード>ゼロから大きな言語モデルを構築</a> <a href = \"https://sebastianraschka.com\"> sebastian raschka </a> <br><br>Code repository: <a href=\"https://github.com/rasbt/LLMs-from-scratch\">https://github.com/rasbt/LLMs-from-scratch</a>\n",
        "</font>\n",
        "</td>\n",
        "<td style=\"vertical-align:middle; text-align:left;\">\n",
        "<a href=\"http://mng.bz/orYv\"><img src=\"https://sebastianraschka.com/images/LLMs-from-scratch-images/cover-small.webp\" width=\"100px\"></a>\n",
        "</td>\n",
        "</tr>\n",
        "</table>"
      ]
    },
    {
      "cell_type": "markdown",
      "id": "ce9295b2-182b-490b-8325-83a67c4a001d",
      "metadata": {
        "id": "ce9295b2-182b-490b-8325-83a67c4a001d"
      },
      "source": [
        "＃第4章：ゼロからGPTモデルを実装してテキストを生成する"
      ]
    },
    {
      "cell_type": "code",
      "execution_count": 1,
      "id": "f9eac223-a125-40f7-bacc-bd0d890450c7",
      "metadata": {
        "colab": {
          "base_uri": "https://localhost:8080/"
        },
        "id": "f9eac223-a125-40f7-bacc-bd0d890450c7",
        "outputId": "92ae4ee3-b2fa-4aae-ee4b-d892fb52e4b9"
      },
      "outputs": [
        {
          "output_type": "stream",
          "name": "stdout",
          "text": [
            "matplotlib version: 3.10.0\n",
            "torch version: 2.6.0+cu124\n",
            "tiktoken version: 0.9.0\n"
          ]
        }
      ],
      "source": [
        "from importlib.metadata import version\n",
        "\n",
        "print(\"matplotlib version:\", version(\"matplotlib\"))\n",
        "print(\"torch version:\", version(\"torch\"))\n",
        "print(\"tiktoken version:\", version(\"tiktoken\"))"
      ]
    },
    {
      "cell_type": "markdown",
      "id": "e7da97ed-e02f-4d7f-b68e-a0eba3716e02",
      "metadata": {
        "id": "e7da97ed-e02f-4d7f-b68e-a0eba3716e02"
      },
      "source": [
        "- この章では、GPTのようなLLMアーキテクチャを実装します。次の章では、このLLMのトレーニングに焦点を当てます"
      ]
    },
    {
      "cell_type": "markdown",
      "id": "7d4f11e0-4434-4979-9dee-e1207df0eb01",
      "metadata": {
        "id": "7d4f11e0-4434-4979-9dee-e1207df0eb01"
      },
      "source": [
        "<img src=\"https://sebastianraschka.com/images/LLMs-from-scratch-images/ch04_compressed/01.webp\" width=\"500px\">"
      ]
    },
    {
      "cell_type": "markdown",
      "id": "53fe99ab-0bcf-4778-a6b5-6db81fb826ef",
      "metadata": {
        "id": "53fe99ab-0bcf-4778-a6b5-6db81fb826ef"
      },
      "source": [
        "## 4.1 LLMアーキテクチャのコーディング"
      ]
    },
    {
      "cell_type": "markdown",
      "id": "ad72d1ff-d82d-4e33-a88e-3c1a8831797b",
      "metadata": {
        "id": "ad72d1ff-d82d-4e33-a88e-3c1a8831797b"
      },
      "source": [
        "- 第1章では、GPTやLlamaなどのモデルについて説明します。これは、単語を順番に生成し、元のトランスアーキテクチャのデコーダー部分に基づいています\n",
        "- したがって、これらのLLMはしばしば「デコーダーのような」LLMと呼ばれます\n",
        "- 従来のディープラーニングモデルと比較して、LLMは主にコードの量ではなく、膨大な数のパラメーターのために大きいです\n",
        "- 多くの要素がLLMのアーキテクチャで繰り返されていることがわかります"
      ]
    },
    {
      "cell_type": "markdown",
      "id": "5c5213e9-bd1c-437e-aee8-f5e8fb717251",
      "metadata": {
        "id": "5c5213e9-bd1c-437e-aee8-f5e8fb717251"
      },
      "source": [
        "<img src=\"https://sebastianraschka.com/images/LLMs-from-scratch-images/ch04_compressed/02.webp\" width=\"400px\">"
      ]
    },
    {
      "cell_type": "markdown",
      "id": "0d43f5e2-fb51-434a-b9be-abeef6b98d99",
      "metadata": {
        "id": "0d43f5e2-fb51-434a-b9be-abeef6b98d99"
      },
      "source": [
        "- 前の章では、トークンの入力と出力に小さな埋め込み寸法を使用して、イラストを容易にし、それらが単一のページに適合するようにします\n",
        "- この章では、小さなGPT-2モデルに似た埋め込みとモデルサイズを検討します\n",
        "-Radford et al。の__link_placeholder_0__で概説されているように、最小のGPT-2モデル（1億4,400万パラメーター）のアーキテクチャを具体的にコーディングします（最初のレポートには117mパラメーターとしてリストされていることに注意してください。\n",
        "- 第6章では、345、762、および1542百万のパラメーターのモデルサイズと互換性のある実装に、前処理された重量を実装にロードする方法を示します。"
      ]
    },
    {
      "cell_type": "markdown",
      "id": "21baa14d-24b8-4820-8191-a2808f7fbabc",
      "metadata": {
        "id": "21baa14d-24b8-4820-8191-a2808f7fbabc"
      },
      "source": [
        "-1億2,400万のパラメーターGPT-2モデルの構成詳細は次のとおりです。"
      ]
    },
    {
      "cell_type": "code",
      "execution_count": 2,
      "id": "5ed66875-1f24-445d-add6-006aae3c5707",
      "metadata": {
        "id": "5ed66875-1f24-445d-add6-006aae3c5707"
      },
      "outputs": [],
      "source": [
        "GPT_CONFIG_124M = {\n",
        "    \"vocab_size\": 50257,    # Vocabulary size\n",
        "    \"context_length\": 1024, # Context length\n",
        "    \"emb_dim\": 768,         # Embedding dimension\n",
        "    \"n_heads\": 12,          # Number of attention heads\n",
        "    \"n_layers\": 12,         # Number of layers\n",
        "    \"drop_rate\": 0.1,       # Dropout rate\n",
        "    \"qkv_bias\": False       # Query-Key-Value bias\n",
        "}"
      ]
    },
    {
      "cell_type": "markdown",
      "id": "c12fcd28-d210-4c57-8be6-06cfcd5d73a4",
      "metadata": {
        "id": "c12fcd28-d210-4c57-8be6-06cfcd5d73a4"
      },
      "source": [
        "- 短い変数名を使用して、後で長い行のコードを避けます\n",
        "-  `\" vocab_size \"`は、第2章で説明したBPEトークナイザーによってサポートされる50,257語の語彙サイズを示します。\n",
        "-  `\" context_length \"`は、第2章でカバーされている位置埋め込みによって有効にされているモデルの最大入力トークンカウントを表します\n",
        "-  `\" emb_dim \"`はトークン入力の埋め込みサイズであり、各入力トークンを768次元ベクトルに変換します\n",
        "-  `\" n_heads \"`は、第3章で実装されているマルチヘッドの注意メカニズムの注意ヘッドの数です\n",
        "-  `\" n_layers \"`はモデル内の変圧器ブロックの数であり、今後のセクションで実装します\n",
        "-  `\" drop_rate \"`は、第3章で説明したドロップアウトメカニズムの強度です。0.1は、過剰適合を緩和するためにトレーニング中に隠されたユニットの10％を落とすことを意味します\n",
        "-  `\" qkv_bias \"`マルチヘッド注意メカニズムの「線形」層（第3章から）が、計算クエリ（q）、キー（k）、および値（v）テンソルの際にバイアスベクターを含める必要があるかどうかを決定します。このオプションは無効になります。これは、現代のLLMで標準的な慣行です。ただし、第5章で再実装にオープンアイから前提条件のGPT-2ウェイトをロードすると、後でこれを再検討します"
      ]
    },
    {
      "cell_type": "markdown",
      "id": "4adce779-857b-4418-9501-12a7f3818d88",
      "metadata": {
        "id": "4adce779-857b-4418-9501-12a7f3818d88"
      },
      "source": [
        "<img src=\"https://sebastianraschka.com/images/LLMs-from-scratch-images/ch04_compressed/03.webp\" width=\"500px\">"
      ]
    },
    {
      "cell_type": "code",
      "execution_count": 3,
      "id": "619c2eed-f8ea-4ff5-92c3-feda0f29b227",
      "metadata": {
        "id": "619c2eed-f8ea-4ff5-92c3-feda0f29b227"
      },
      "outputs": [],
      "source": [
        "import torch\n",
        "import torch.nn as nn\n",
        "\n",
        "\n",
        "class DummyGPTModel(nn.Module):\n",
        "    def __init__(self, cfg):\n",
        "        super().__init__()\n",
        "        self.tok_emb = nn.Embedding(cfg[\"vocab_size\"], cfg[\"emb_dim\"])\n",
        "        self.pos_emb = nn.Embedding(cfg[\"context_length\"], cfg[\"emb_dim\"])\n",
        "        self.drop_emb = nn.Dropout(cfg[\"drop_rate\"])\n",
        "\n",
        "        # Use a placeholder for TransformerBlock\n",
        "        self.trf_blocks = nn.Sequential(\n",
        "            *[DummyTransformerBlock(cfg) for _ in range(cfg[\"n_layers\"])])\n",
        "\n",
        "        # Use a placeholder for LayerNorm\n",
        "        self.final_norm = DummyLayerNorm(cfg[\"emb_dim\"])\n",
        "        self.out_head = nn.Linear(\n",
        "            cfg[\"emb_dim\"], cfg[\"vocab_size\"], bias=False\n",
        "        )\n",
        "\n",
        "    def forward(self, in_idx):\n",
        "        batch_size, seq_len = in_idx.shape\n",
        "        tok_embeds = self.tok_emb(in_idx)\n",
        "        pos_embeds = self.pos_emb(torch.arange(seq_len, device=in_idx.device))\n",
        "        x = tok_embeds + pos_embeds\n",
        "        x = self.drop_emb(x)\n",
        "        x = self.trf_blocks(x)\n",
        "        x = self.final_norm(x)\n",
        "        logits = self.out_head(x)\n",
        "        return logits\n",
        "\n",
        "\n",
        "class DummyTransformerBlock(nn.Module):\n",
        "    def __init__(self, cfg):\n",
        "        super().__init__()\n",
        "        # A simple placeholder\n",
        "\n",
        "    def forward(self, x):\n",
        "        # This block does nothing and just returns its input.\n",
        "        return x\n",
        "\n",
        "\n",
        "class DummyLayerNorm(nn.Module):\n",
        "    def __init__(self, normalized_shape, eps=1e-5):\n",
        "        super().__init__()\n",
        "        # The parameters here are just to mimic the LayerNorm interface.\n",
        "\n",
        "    def forward(self, x):\n",
        "        # This layer does nothing and just returns its input.\n",
        "        return x"
      ]
    },
    {
      "cell_type": "markdown",
      "id": "9665e8ab-20ca-4100-b9b9-50d9bdee33be",
      "metadata": {
        "id": "9665e8ab-20ca-4100-b9b9-50d9bdee33be"
      },
      "source": [
        "<img src=\"https://sebastianraschka.com/images/LLMs-from-scratch-images/ch04_compressed/04.webp?123\" width=\"500px\">"
      ]
    },
    {
      "cell_type": "code",
      "execution_count": 4,
      "id": "794b6b6c-d36f-411e-a7db-8ac566a87fee",
      "metadata": {
        "colab": {
          "base_uri": "https://localhost:8080/"
        },
        "id": "794b6b6c-d36f-411e-a7db-8ac566a87fee",
        "outputId": "6369d76f-f472-4190-ad5d-c7b6cb07b8fb"
      },
      "outputs": [
        {
          "output_type": "stream",
          "name": "stdout",
          "text": [
            "tensor([[6109, 3626, 6100,  345],\n",
            "        [6109, 1110, 6622,  257]])\n"
          ]
        }
      ],
      "source": [
        "import tiktoken\n",
        "\n",
        "tokenizer = tiktoken.get_encoding(\"gpt2\")\n",
        "\n",
        "batch = []\n",
        "\n",
        "txt1 = \"Every effort moves you\"\n",
        "txt2 = \"Every day holds a\"\n",
        "\n",
        "batch.append(torch.tensor(tokenizer.encode(txt1)))\n",
        "batch.append(torch.tensor(tokenizer.encode(txt2)))\n",
        "batch = torch.stack(batch, dim=0)\n",
        "print(batch)"
      ]
    },
    {
      "cell_type": "code",
      "execution_count": 5,
      "id": "009238cd-0160-4834-979c-309710986bb0",
      "metadata": {
        "colab": {
          "base_uri": "https://localhost:8080/"
        },
        "id": "009238cd-0160-4834-979c-309710986bb0",
        "outputId": "2fb03bcb-3c3e-4340-dd21-492c8d2efa9b"
      },
      "outputs": [
        {
          "output_type": "stream",
          "name": "stdout",
          "text": [
            "Output shape: torch.Size([2, 4, 50257])\n",
            "tensor([[[-0.9289,  0.2748, -0.7557,  ..., -1.6070,  0.2702, -0.5888],\n",
            "         [-0.4476,  0.1726,  0.5354,  ..., -0.3932,  1.5285,  0.8557],\n",
            "         [ 0.5680,  1.6053, -0.2155,  ...,  1.1624,  0.1380,  0.7425],\n",
            "         [ 0.0447,  2.4787, -0.8843,  ...,  1.3219, -0.0864, -0.5856]],\n",
            "\n",
            "        [[-1.5474, -0.0542, -1.0571,  ..., -1.8061, -0.4494, -0.6747],\n",
            "         [-0.8422,  0.8243, -0.1098,  ..., -0.1434,  0.2079,  1.2046],\n",
            "         [ 0.1355,  1.1858, -0.1453,  ...,  0.0869, -0.1590,  0.1552],\n",
            "         [ 0.1666, -0.8138,  0.2307,  ...,  2.5035, -0.3055, -0.3083]]],\n",
            "       grad_fn=<UnsafeViewBackward0>)\n"
          ]
        }
      ],
      "source": [
        "torch.manual_seed(123)\n",
        "model = DummyGPTModel(GPT_CONFIG_124M)\n",
        "\n",
        "logits = model(batch)\n",
        "print(\"Output shape:\", logits.shape)\n",
        "print(logits)"
      ]
    },
    {
      "cell_type": "markdown",
      "id": "f8fad0fe-895d-4493-9e48-962e2d46c66f",
      "metadata": {
        "id": "f8fad0fe-895d-4493-9e48-962e2d46c66f"
      },
      "source": [
        "---\n",
        "\n",
        "**注記**\n",
        "\n",
        "- このコードをWindowsまたはLinuxで実行している場合、上記の値は次のように見える場合があります。\n",
        "\n",
        "`` `\n",
        "出力形状：torch.size（[2、4、50257]）\n",
        "テンソル（[[[ -  0.9289、0.2748、-0.7557、...、-1.6070、0.2702、-0.5888]、\n",
        "[-0.4476、0.1726、0.5354、...、-0.3932、1.5285、0.8557]、\n",
        "[0.5680、1.6053、-0.2155、...、1.1624、0.1380、0.7425]、\n",
        "[0.0447、2.4787、-0.8843、...、1.3219、-0.0864、-0.5856]、\n",
        "\n",
        "[[-1.5474、-0.0542、-1.0571、...、-1.8061、-0.4494、-0.6747]、\n",
        "[-0.8422、0.8243、-0.1098、...、-0.1434、0.2079、1.2046]、\n",
        "[0.1355、1.1858、-0.1453、...、0.0869、-0.1590、0.1552]、\n",
        "[0.1666、-0.8138、0.2307、...、2.5035、-0.3055、-0.3083]]、\n",
        "grad_fn = <unsafeviewbackward0>）\n",
        "`` `\n",
        "\n",
        "- これらは乱数にすぎないため、これは懸念の理由ではなく、問題なく残りの章を進めることができます\n",
        "- この矛盾の考えられる理由の1つは、Pytorchの編集方法に応じて、オペレーティングシステム全体で「nn.dropout」の異なる動作です。\n",
        "\n",
        "---"
      ]
    },
    {
      "cell_type": "markdown",
      "id": "f8332a00-98da-4eb4-b882-922776a89917",
      "metadata": {
        "id": "f8332a00-98da-4eb4-b882-922776a89917"
      },
      "source": [
        "## 4.2レイヤー正規化によるアクティブ化の正規化"
      ]
    },
    {
      "cell_type": "markdown",
      "id": "066cfb81-d59b-4d95-afe3-e43cf095f292",
      "metadata": {
        "id": "066cfb81-d59b-4d95-afe3-e43cf095f292"
      },
      "source": [
        "-Layernorm（__Link_PlaceHolder_0__）とも呼ばれるレイヤー正規化は、ニューラルネットワーク層の活性化を平均0の周りに中心にし、その分散を1に正規化します\n",
        "- これにより、トレーニングが安定し、効果的なウェイトへのより速い収束が可能になります\n",
        "- レイヤー正規化は、変圧器ブロック内のマルチヘッド注意モジュールの前後の両方で適用され、後で実装します。また、最終出力層の前に適用されます"
      ]
    },
    {
      "cell_type": "markdown",
      "id": "314ac47a-69cc-4597-beeb-65bed3b5910f",
      "metadata": {
        "id": "314ac47a-69cc-4597-beeb-65bed3b5910f"
      },
      "source": [
        "<img src=\"https://sebastianraschka.com/images/LLMs-from-scratch-images/ch04_compressed/05.webp\" width=\"400px\">"
      ]
    },
    {
      "cell_type": "markdown",
      "id": "5ab49940-6b35-4397-a80e-df8d092770a7",
      "metadata": {
        "id": "5ab49940-6b35-4397-a80e-df8d092770a7"
      },
      "source": [
        "- 単純なニューラルネットワークレイヤーに小さな入力サンプルを渡すことにより、層の正規化がどのように機能するかを見てみましょう。"
      ]
    },
    {
      "cell_type": "code",
      "execution_count": 6,
      "id": "79e1b463-dc3f-44ac-9cdb-9d5b6f64eb9d",
      "metadata": {
        "colab": {
          "base_uri": "https://localhost:8080/"
        },
        "id": "79e1b463-dc3f-44ac-9cdb-9d5b6f64eb9d",
        "outputId": "65a0733b-3f32-4738-8697-eb579ad64092"
      },
      "outputs": [
        {
          "output_type": "stream",
          "name": "stdout",
          "text": [
            "tensor([[0.2260, 0.3470, 0.0000, 0.2216, 0.0000, 0.0000],\n",
            "        [0.2133, 0.2394, 0.0000, 0.5198, 0.3297, 0.0000]],\n",
            "       grad_fn=<ReluBackward0>)\n"
          ]
        }
      ],
      "source": [
        "torch.manual_seed(123)\n",
        "\n",
        "# create 2 training examples with 5 dimensions (features) each\n",
        "batch_example = torch.randn(2, 5)\n",
        "\n",
        "layer = nn.Sequential(nn.Linear(5, 6), nn.ReLU())\n",
        "out = layer(batch_example)\n",
        "print(out)"
      ]
    },
    {
      "cell_type": "markdown",
      "id": "8fccc29e-71fc-4c16-898c-6137c6ea5d2e",
      "metadata": {
        "id": "8fccc29e-71fc-4c16-898c-6137c6ea5d2e"
      },
      "source": [
        "- 上記の2つの入力のそれぞれの平均と分散を計算しましょう。"
      ]
    },
    {
      "cell_type": "code",
      "execution_count": 7,
      "id": "9888f79e-8e69-44aa-8a19-cd34292adbf5",
      "metadata": {
        "colab": {
          "base_uri": "https://localhost:8080/"
        },
        "id": "9888f79e-8e69-44aa-8a19-cd34292adbf5",
        "outputId": "d589bf92-65ae-499b-c42b-8aded4ef9d4b"
      },
      "outputs": [
        {
          "output_type": "stream",
          "name": "stdout",
          "text": [
            "Mean:\n",
            " tensor([[0.1324],\n",
            "        [0.2170]], grad_fn=<MeanBackward1>)\n",
            "Variance:\n",
            " tensor([[0.0231],\n",
            "        [0.0398]], grad_fn=<VarBackward0>)\n"
          ]
        }
      ],
      "source": [
        "mean = out.mean(dim=-1, keepdim=True)\n",
        "var = out.var(dim=-1, keepdim=True)\n",
        "\n",
        "print(\"Mean:\\n\", mean)\n",
        "print(\"Variance:\\n\", var)"
      ]
    },
    {
      "cell_type": "markdown",
      "id": "052eda3e-b395-48c4-acd4-eb8083bab958",
      "metadata": {
        "id": "052eda3e-b395-48c4-acd4-eb8083bab958"
      },
      "source": [
        "- 正規化は、2つの入力（行）のそれぞれに個別に適用されます。dim = -1を使用すると、行の寸法の代わりに、最後の次元（この場合は特徴寸法）に計算が適用されます"
      ]
    },
    {
      "cell_type": "markdown",
      "id": "570db83a-205c-4f6f-b219-1f6195dde1a7",
      "metadata": {
        "id": "570db83a-205c-4f6f-b219-1f6195dde1a7"
      },
      "source": [
        "<img src=\"https://sebastianraschka.com/images/LLMs-from-scratch-images/ch04_compressed/06.webp\" width=\"400px\">"
      ]
    },
    {
      "cell_type": "markdown",
      "id": "9f8ecbc7-eb14-4fa1-b5d0-7e1ff9694f99",
      "metadata": {
        "id": "9f8ecbc7-eb14-4fa1-b5d0-7e1ff9694f99"
      },
      "source": [
        "- 平均を差し引き、分散の平方根（標準偏差）で除算すると、入力が中心になり、平均は0、列（特徴）寸法全体で1の分散が1になります。"
      ]
    },
    {
      "cell_type": "code",
      "execution_count": 8,
      "id": "9a1d1bb9-3341-4c9a-bc2a-d2489bf89cda",
      "metadata": {
        "colab": {
          "base_uri": "https://localhost:8080/"
        },
        "id": "9a1d1bb9-3341-4c9a-bc2a-d2489bf89cda",
        "outputId": "8ef584f8-dfe5-403c-9126-f52ddf9db706"
      },
      "outputs": [
        {
          "output_type": "stream",
          "name": "stdout",
          "text": [
            "Normalized layer outputs:\n",
            " tensor([[ 0.6159,  1.4126, -0.8719,  0.5872, -0.8719, -0.8719],\n",
            "        [-0.0189,  0.1121, -1.0876,  1.5173,  0.5647, -1.0876]],\n",
            "       grad_fn=<DivBackward0>)\n",
            "Mean:\n",
            " tensor([[9.9341e-09],\n",
            "        [1.9868e-08]], grad_fn=<MeanBackward1>)\n",
            "Variance:\n",
            " tensor([[1.0000],\n",
            "        [1.0000]], grad_fn=<VarBackward0>)\n"
          ]
        }
      ],
      "source": [
        "out_norm = (out - mean) / torch.sqrt(var)\n",
        "print(\"Normalized layer outputs:\\n\", out_norm)\n",
        "\n",
        "mean = out_norm.mean(dim=-1, keepdim=True)\n",
        "var = out_norm.var(dim=-1, keepdim=True)\n",
        "print(\"Mean:\\n\", mean)\n",
        "print(\"Variance:\\n\", var)"
      ]
    },
    {
      "cell_type": "markdown",
      "id": "ac62b90c-7156-4979-9a79-ce1fb92969c1",
      "metadata": {
        "id": "ac62b90c-7156-4979-9a79-ce1fb92969c1"
      },
      "source": [
        "- 各入力は0の中心で、単位分散は1です。読みやすさを改善するために、Pytorchの科学表記法を無効にすることができます。"
      ]
    },
    {
      "cell_type": "code",
      "execution_count": 9,
      "id": "3e06c34b-c68a-4b36-afbe-b30eda4eca39",
      "metadata": {
        "colab": {
          "base_uri": "https://localhost:8080/"
        },
        "id": "3e06c34b-c68a-4b36-afbe-b30eda4eca39",
        "outputId": "0b9b3d67-7f20-4536-feb3-10d2612f9dd8"
      },
      "outputs": [
        {
          "output_type": "stream",
          "name": "stdout",
          "text": [
            "Mean:\n",
            " tensor([[    0.0000],\n",
            "        [    0.0000]], grad_fn=<MeanBackward1>)\n",
            "Variance:\n",
            " tensor([[1.0000],\n",
            "        [1.0000]], grad_fn=<VarBackward0>)\n"
          ]
        }
      ],
      "source": [
        "torch.set_printoptions(sci_mode=False)\n",
        "print(\"Mean:\\n\", mean)\n",
        "print(\"Variance:\\n\", var)"
      ]
    },
    {
      "cell_type": "markdown",
      "id": "944fb958-d4ed-43cc-858d-00052bb6b31a",
      "metadata": {
        "id": "944fb958-d4ed-43cc-858d-00052bb6b31a"
      },
      "source": [
        "- 上記では、各入力の機能を正規化しました\n",
        "- ここで、同じアイデアを使用して、「layernorm」クラスを実装できます。"
      ]
    },
    {
      "cell_type": "code",
      "execution_count": 10,
      "id": "3333a305-aa3d-460a-bcce-b80662d464d9",
      "metadata": {
        "id": "3333a305-aa3d-460a-bcce-b80662d464d9"
      },
      "outputs": [],
      "source": [
        "class LayerNorm(nn.Module):\n",
        "    def __init__(self, emb_dim):\n",
        "        super().__init__()\n",
        "        self.eps = 1e-5\n",
        "        self.scale = nn.Parameter(torch.ones(emb_dim))\n",
        "        self.shift = nn.Parameter(torch.zeros(emb_dim))\n",
        "\n",
        "    def forward(self, x):\n",
        "        mean = x.mean(dim=-1, keepdim=True)\n",
        "        var = x.var(dim=-1, keepdim=True, unbiased=False)\n",
        "        norm_x = (x - mean) / torch.sqrt(var + self.eps)\n",
        "        return self.scale * norm_x + self.shift"
      ]
    },
    {
      "cell_type": "markdown",
      "id": "e56c3908-7544-4808-b8cb-5d0a55bcca72",
      "metadata": {
        "id": "e56c3908-7544-4808-b8cb-5d0a55bcca72"
      },
      "source": [
        "**スケールとシフト**\n",
        "\n",
        "- 平均を差し引き、分散で除算することで正規化を実行することに加えて、2つのトレーニング可能なパラメーター、「スケール」と「シフト」パラメーターを追加したことに注意してください。\n",
        "- 初期「スケール」（1を掛ける）と「シフト」（0の追加）値には効果がありません。ただし、「スケール」と「シフト」は、トレーニングタスクでのモデルのパフォーマンスが改善されると判断された場合、LLMがトレーニング中に自動的に調整するトレーニング可能なパラメーターです。\n",
        "- これにより、モデルは適切なスケーリングとシフトを学習し、処理しているデータに最適なシフトを実行できます。\n",
        "- 分散の平方根を計算する前に、より小さな値（ `eps`）も追加することに注意してください。これは、分散が0の場合、ディビジョンごとのエラーを避けるためです\n",
        "\n",
        "**偏った分散**\n",
        "- 上記の分散計算では、 `biased = false`を設定することは、式$ \\ frac {\\ sum_i（x_i  -  \\ bar {x}）^2} {n} $を使用して、nがサンプルサイズ（ここでは機能または列の数）を計算することを意味します。この式には、ベッセルの補正（分母に「n-1」を使用）は含まれていないため、分散の偏った推定値が提供されます。\n",
        "-LLMSの場合、埋め込み寸法 `n`は非常に大きく、nと` n-1 `の使用の違いは\n",
        "無視できます\n",
        "- ただし、GPT-2は正規化層の偏りのある分散で訓練されたため、後の章でロードする前提条件の重みと互換性の理由でこの設定を採用しました。\n",
        "\n",
        "- 実際に「layernorm」を試してみましょう："
      ]
    },
    {
      "cell_type": "code",
      "execution_count": 11,
      "id": "23b1000a-e613-4b43-bd90-e54deed8d292",
      "metadata": {
        "id": "23b1000a-e613-4b43-bd90-e54deed8d292"
      },
      "outputs": [],
      "source": [
        "ln = LayerNorm(emb_dim=5)\n",
        "out_ln = ln(batch_example)"
      ]
    },
    {
      "cell_type": "code",
      "execution_count": 12,
      "id": "94c12de2-1cab-46e0-a099-e2e470353bff",
      "metadata": {
        "colab": {
          "base_uri": "https://localhost:8080/"
        },
        "id": "94c12de2-1cab-46e0-a099-e2e470353bff",
        "outputId": "46ee4aaa-96d8-4dcb-da8a-57f6c3cdcdeb"
      },
      "outputs": [
        {
          "output_type": "stream",
          "name": "stdout",
          "text": [
            "Mean:\n",
            " tensor([[    -0.0000],\n",
            "        [     0.0000]], grad_fn=<MeanBackward1>)\n",
            "Variance:\n",
            " tensor([[1.0000],\n",
            "        [1.0000]], grad_fn=<VarBackward0>)\n"
          ]
        }
      ],
      "source": [
        "mean = out_ln.mean(dim=-1, keepdim=True)\n",
        "var = out_ln.var(dim=-1, unbiased=False, keepdim=True)\n",
        "\n",
        "print(\"Mean:\\n\", mean)\n",
        "print(\"Variance:\\n\", var)"
      ]
    },
    {
      "cell_type": "markdown",
      "id": "e136cfc4-7c89-492e-b120-758c272bca8c",
      "metadata": {
        "id": "e136cfc4-7c89-492e-b120-758c272bca8c"
      },
      "source": [
        "<img src=\"https://sebastianraschka.com/images/LLMs-from-scratch-images/ch04_compressed/07.webp\" width=\"400px\">"
      ]
    },
    {
      "cell_type": "markdown",
      "id": "11190e7d-8c29-4115-824a-e03702f9dd54",
      "metadata": {
        "id": "11190e7d-8c29-4115-824a-e03702f9dd54"
      },
      "source": [
        "##4.3 GELUアクティベーションを使用してフィードフォワードネットワークを実装する"
      ]
    },
    {
      "cell_type": "markdown",
      "id": "b0585dfb-f21e-40e5-973f-2f63ad5cb169",
      "metadata": {
        "id": "b0585dfb-f21e-40e5-973f-2f63ad5cb169"
      },
      "source": [
        "- このセクションでは、LLMSの変圧器ブロックの一部として使用される小さなニューラルネットワークサブモジュールを実装します\n",
        "- アクティベーション関数から始めます\n",
        "- 深い学習では、さまざまなニューラルネットワークアーキテクチャにおける単純さと有効性のために、relu（整流線形単位）活性化関数が一般的に使用されます\n",
        "-LLMSでは、他のさまざまなタイプの活性化関数が従来のリレーションを超えて使用されています。2つの注目すべき例は、Gelu（Gaussian Errer Linearユニット）とSwiglu（スイッシュ依存性線形ユニット）です。\n",
        "-GELUとSwigluは、それぞれガウスとシグモイドの線形ユニットを組み込んだより複雑で滑らかな活性化機能であり、Reluのよりシンプルで区分的な線形関数とは異なり、ディープラーニングモデルのパフォーマンスを向上させることができます。"
      ]
    },
    {
      "cell_type": "markdown",
      "id": "7d482ce7-e493-4bfc-a820-3ea99f564ebc",
      "metadata": {
        "id": "7d482ce7-e493-4bfc-a820-3ea99f564ebc"
      },
      "source": [
        "-GELU（__link_placeholder_0__）はいくつかの方法で実装できます。正確なバージョンは、gelu（x）=x⋅φ（x）として定義されます。ここで、φ（x）は標準ガウス分布の累積分布関数です。\n",
        "- 実際には、計算的に安価な近似を実装することが一般的です：$ \\ text {gelu}（x）\\ cdot x \\ cdot \\ left（1 + \\ tanh \\ left [\\ sqrt {\\ frac {2} {\\ pi}} \\ cdot \\ left \\ left（x + 0.044715x^3 \\右）\\右] \\右）\n",
        "$（元のGPT-2モデルもこの近似でトレーニングされました）"
      ]
    },
    {
      "cell_type": "code",
      "execution_count": 13,
      "id": "f84694b7-95f3-4323-b6d6-0a73df278e82",
      "metadata": {
        "id": "f84694b7-95f3-4323-b6d6-0a73df278e82"
      },
      "outputs": [],
      "source": [
        "class GELU(nn.Module):\n",
        "    def __init__(self):\n",
        "        super().__init__()\n",
        "\n",
        "    def forward(self, x):\n",
        "        return 0.5 * x * (1 + torch.tanh(\n",
        "            torch.sqrt(torch.tensor(2.0 / torch.pi)) *\n",
        "            (x + 0.044715 * torch.pow(x, 3))\n",
        "        ))"
      ]
    },
    {
      "cell_type": "code",
      "execution_count": 14,
      "id": "fc5487d2-2576-4118-80a7-56c4caac2e71",
      "metadata": {
        "colab": {
          "base_uri": "https://localhost:8080/",
          "height": 308
        },
        "id": "fc5487d2-2576-4118-80a7-56c4caac2e71",
        "outputId": "b6934e70-1a31-4382-9304-4e3da58688d8"
      },
      "outputs": [
        {
          "output_type": "display_data",
          "data": {
            "text/plain": [
              "<Figure size 800x300 with 2 Axes>"
            ],
            "image/png": "[encoded data removed]"
          },
          "metadata": {}
        }
      ],
      "source": [
        "import matplotlib.pyplot as plt\n",
        "\n",
        "gelu, relu = GELU(), nn.ReLU()\n",
        "\n",
        "# Some sample data\n",
        "x = torch.linspace(-3, 3, 100)\n",
        "y_gelu, y_relu = gelu(x), relu(x)\n",
        "\n",
        "plt.figure(figsize=(8, 3))\n",
        "for i, (y, label) in enumerate(zip([y_gelu, y_relu], [\"GELU\", \"ReLU\"]), 1):\n",
        "    plt.subplot(1, 2, i)\n",
        "    plt.plot(x, y)\n",
        "    plt.title(f\"{label} activation function\")\n",
        "    plt.xlabel(\"x\")\n",
        "    plt.ylabel(f\"{label}(x)\")\n",
        "    plt.grid(True)\n",
        "\n",
        "plt.tight_layout()\n",
        "plt.show()"
      ]
    },
    {
      "cell_type": "markdown",
      "id": "1cd01662-14cb-43fd-bffd-2d702813de2d",
      "metadata": {
        "id": "1cd01662-14cb-43fd-bffd-2d702813de2d"
      },
      "source": [
        "- 私たちが見ることができるように、Reluは、それが正である場合、入力を直接出力する区分的線形関数です。それ以外の場合、ゼロを出力します\n",
        "-GELUは、reluに近似する滑らかで非線形の関数ですが、負の値に対して非ゼロ勾配を使用します（約-0.75を除く）\n",
        "\n",
        "- 次に、LLMの変圧器ブロックで使用する小さなニューラルネットワークモジュール「FeedForward」を実装しましょう。"
      ]
    },
    {
      "cell_type": "code",
      "execution_count": 15,
      "id": "9275c879-b148-4579-a107-86827ca14d4d",
      "metadata": {
        "id": "9275c879-b148-4579-a107-86827ca14d4d"
      },
      "outputs": [],
      "source": [
        "class FeedForward(nn.Module):\n",
        "    def __init__(self, cfg):\n",
        "        super().__init__()\n",
        "        self.layers = nn.Sequential(\n",
        "            nn.Linear(cfg[\"emb_dim\"], 4 * cfg[\"emb_dim\"]),\n",
        "            GELU(),\n",
        "            nn.Linear(4 * cfg[\"emb_dim\"], cfg[\"emb_dim\"]),\n",
        "        )\n",
        "\n",
        "    def forward(self, x):\n",
        "        return self.layers(x)"
      ]
    },
    {
      "cell_type": "code",
      "execution_count": 16,
      "id": "7c4976e2-0261-418e-b042-c5be98c2ccaf",
      "metadata": {
        "colab": {
          "base_uri": "https://localhost:8080/"
        },
        "id": "7c4976e2-0261-418e-b042-c5be98c2ccaf",
        "outputId": "e6da939f-d36d-408f-ea27-f88f2d5732d8"
      },
      "outputs": [
        {
          "output_type": "stream",
          "name": "stdout",
          "text": [
            "768\n"
          ]
        }
      ],
      "source": [
        "print(GPT_CONFIG_124M[\"emb_dim\"])"
      ]
    },
    {
      "cell_type": "markdown",
      "id": "fdcaacfa-3cfc-4c9e-b668-b71a2753145a",
      "metadata": {
        "id": "fdcaacfa-3cfc-4c9e-b668-b71a2753145a"
      },
      "source": [
        "<img src=\"https://sebastianraschka.com/images/LLMs-from-scratch-images/ch04_compressed/09.webp?12\" width=\"400px\">"
      ]
    },
    {
      "cell_type": "code",
      "execution_count": 17,
      "id": "928e7f7c-d0b1-499f-8d07-4cadb428a6f9",
      "metadata": {
        "colab": {
          "base_uri": "https://localhost:8080/"
        },
        "id": "928e7f7c-d0b1-499f-8d07-4cadb428a6f9",
        "outputId": "3adb1082-5e80-4c38-9da5-b329dbea2fa7"
      },
      "outputs": [
        {
          "output_type": "stream",
          "name": "stdout",
          "text": [
            "torch.Size([2, 3, 768])\n"
          ]
        }
      ],
      "source": [
        "ffn = FeedForward(GPT_CONFIG_124M)\n",
        "\n",
        "# input shape: [batch_size, num_token, emb_size]\n",
        "x = torch.rand(2, 3, 768)\n",
        "out = ffn(x)\n",
        "print(out.shape)"
      ]
    },
    {
      "cell_type": "markdown",
      "id": "8f8756c5-6b04-443b-93d0-e555a316c377",
      "metadata": {
        "id": "8f8756c5-6b04-443b-93d0-e555a316c377"
      },
      "source": [
        "<img src=\"https://sebastianraschka.com/images/LLMs-from-scratch-images/ch04_compressed/10.webp\" width=\"400px\">"
      ]
    },
    {
      "cell_type": "markdown",
      "id": "e5da2a50-04f4-4388-af23-ad32e405a972",
      "metadata": {
        "id": "e5da2a50-04f4-4388-af23-ad32e405a972"
      },
      "source": [
        "<img src=\"https://sebastianraschka.com/images/LLMs-from-scratch-images/ch04_compressed/11.webp\" width=\"400px\">"
      ]
    },
    {
      "cell_type": "markdown",
      "id": "4ffcb905-53c7-4886-87d2-4464c5fecf89",
      "metadata": {
        "id": "4ffcb905-53c7-4886-87d2-4464c5fecf89"
      },
      "source": [
        "## 4.4ショートカット接続の追加"
      ]
    },
    {
      "cell_type": "markdown",
      "id": "ffae416c-821e-4bfa-a741-8af4ba5db00e",
      "metadata": {
        "id": "ffae416c-821e-4bfa-a741-8af4ba5db00e"
      },
      "source": [
        "- 次に、Skipまたは残留接続とも呼ばれるショートカット接続の背後にある概念について話しましょう\n",
        "- 元々、ショートカット接続は、消失勾配の問題を軽減するためのコンピュータービジョン（残留ネットワーク）のディープネットワークで提案されていました\n",
        "- ショートカット接続は、勾配がネットワークを流れるための代替の短いパスを作成します\n",
        "- これは、1つのレイヤーの出力を後のレイヤーの出力に追加することで達成され、通常は1つ以上のレイヤーをスキップする\n",
        "- このアイデアを小さな例ネットワークで説明しましょう。<img src=\"https://sebastianraschka.com/images/LLMs-from-scratch-images/ch04_compressed/12.webp?123\" width=\"400px\">"
      ]
    },
    {
      "cell_type": "markdown",
      "id": "14cfd241-a32e-4601-8790-784b82f2f23e",
      "metadata": {
        "id": "14cfd241-a32e-4601-8790-784b82f2f23e"
      },
      "source": [
        "- コードでは、次のようになります。"
      ]
    },
    {
      "cell_type": "code",
      "execution_count": 18,
      "id": "05473938-799c-49fd-86d4-8ed65f94fee6",
      "metadata": {
        "id": "05473938-799c-49fd-86d4-8ed65f94fee6"
      },
      "outputs": [],
      "source": [
        "class ExampleDeepNeuralNetwork(nn.Module):\n",
        "    def __init__(self, layer_sizes, use_shortcut):\n",
        "        super().__init__()\n",
        "        self.use_shortcut = use_shortcut\n",
        "        self.layers = nn.ModuleList([\n",
        "            nn.Sequential(nn.Linear(layer_sizes[0], layer_sizes[1]), GELU()),\n",
        "            nn.Sequential(nn.Linear(layer_sizes[1], layer_sizes[2]), GELU()),\n",
        "            nn.Sequential(nn.Linear(layer_sizes[2], layer_sizes[3]), GELU()),\n",
        "            nn.Sequential(nn.Linear(layer_sizes[3], layer_sizes[4]), GELU()),\n",
        "            nn.Sequential(nn.Linear(layer_sizes[4], layer_sizes[5]), GELU())\n",
        "        ])\n",
        "\n",
        "    def forward(self, x):\n",
        "        for layer in self.layers:\n",
        "            # Compute the output of the current layer\n",
        "            layer_output = layer(x)\n",
        "            # Check if shortcut can be applied\n",
        "            if self.use_shortcut and x.shape == layer_output.shape:\n",
        "                x = x + layer_output\n",
        "            else:\n",
        "                x = layer_output\n",
        "        return x\n",
        "\n",
        "\n",
        "def print_gradients(model, x):\n",
        "    # Forward pass\n",
        "    output = model(x)\n",
        "    target = torch.tensor([[0.]])\n",
        "\n",
        "    # Calculate loss based on how close the target\n",
        "    # and output are\n",
        "    loss = nn.MSELoss()\n",
        "    loss = loss(output, target)\n",
        "\n",
        "    # Backward pass to calculate the gradients\n",
        "    loss.backward()\n",
        "\n",
        "    for name, param in model.named_parameters():\n",
        "        if 'weight' in name:\n",
        "            # Print the mean absolute gradient of the weights\n",
        "            print(f\"{name} has gradient mean of {param.grad.abs().mean().item()}\")"
      ]
    },
    {
      "cell_type": "markdown",
      "id": "b39bf277-b3db-4bb1-84ce-7a20caff1011",
      "metadata": {
        "id": "b39bf277-b3db-4bb1-84ce-7a20caff1011"
      },
      "source": [
        "- 最初にグラデーション値を印刷しましょう** **ショートカット接続："
      ]
    },
    {
      "cell_type": "code",
      "execution_count": 19,
      "id": "c75f43cc-6923-4018-b980-26023086572c",
      "metadata": {
        "colab": {
          "base_uri": "https://localhost:8080/"
        },
        "id": "c75f43cc-6923-4018-b980-26023086572c",
        "outputId": "06a6219c-0c97-4bc9-988b-183b28b24a90"
      },
      "outputs": [
        {
          "output_type": "stream",
          "name": "stdout",
          "text": [
            "layers.0.0.weight has gradient mean of 0.00020173584925942123\n",
            "layers.1.0.weight has gradient mean of 0.00012011159560643137\n",
            "layers.2.0.weight has gradient mean of 0.0007152040489017963\n",
            "layers.3.0.weight has gradient mean of 0.0013988736318424344\n",
            "layers.4.0.weight has gradient mean of 0.005049645435065031\n"
          ]
        }
      ],
      "source": [
        "layer_sizes = [3, 3, 3, 3, 3, 1]\n",
        "\n",
        "sample_input = torch.tensor([[1., 0., -1.]])\n",
        "\n",
        "torch.manual_seed(123)\n",
        "model_without_shortcut = ExampleDeepNeuralNetwork(\n",
        "    layer_sizes, use_shortcut=False\n",
        ")\n",
        "print_gradients(model_without_shortcut, sample_input)"
      ]
    },
    {
      "cell_type": "markdown",
      "id": "837fd5d4-7345-4663-97f5-38f19dfde621",
      "metadata": {
        "id": "837fd5d4-7345-4663-97f5-38f19dfde621"
      },
      "source": [
        "- 次に、勾配値を印刷してください** **ショートカット接続："
      ]
    },
    {
      "cell_type": "code",
      "execution_count": 20,
      "id": "11b7c0c2-f9dd-4dd5-b096-a05c48c5f6d6",
      "metadata": {
        "colab": {
          "base_uri": "https://localhost:8080/"
        },
        "id": "11b7c0c2-f9dd-4dd5-b096-a05c48c5f6d6",
        "outputId": "281b2c82-74f7-4bc4-b2e3-9eb2fe429bc9"
      },
      "outputs": [
        {
          "output_type": "stream",
          "name": "stdout",
          "text": [
            "layers.0.0.weight has gradient mean of 0.22169791162014008\n",
            "layers.1.0.weight has gradient mean of 0.20694105327129364\n",
            "layers.2.0.weight has gradient mean of 0.32896995544433594\n",
            "layers.3.0.weight has gradient mean of 0.2665732204914093\n",
            "layers.4.0.weight has gradient mean of 1.3258540630340576\n"
          ]
        }
      ],
      "source": [
        "torch.manual_seed(123)\n",
        "model_with_shortcut = ExampleDeepNeuralNetwork(\n",
        "    layer_sizes, use_shortcut=True\n",
        ")\n",
        "print_gradients(model_with_shortcut, sample_input)"
      ]
    },
    {
      "cell_type": "markdown",
      "id": "79ff783a-46f0-49c5-a7a9-26a525764b6e",
      "metadata": {
        "id": "79ff783a-46f0-49c5-a7a9-26a525764b6e"
      },
      "source": [
        "- 上記の出力に基づいてわかるように、ショートカット接続により、勾配が初期層で消えるのを防ぎます（ 'layer.0`に向かって）\n",
        "- 変圧器ブロックを実装するときに、次にショートカット接続のこの概念を使用します"
      ]
    },
    {
      "cell_type": "markdown",
      "id": "cae578ca-e564-42cf-8635-a2267047cdff",
      "metadata": {
        "id": "cae578ca-e564-42cf-8635-a2267047cdff"
      },
      "source": [
        "## 4.5トランスブロック内の注意と線形層の接続"
      ]
    },
    {
      "cell_type": "markdown",
      "id": "a3daac6f-6545-4258-8f2d-f45a7394f429",
      "metadata": {
        "id": "a3daac6f-6545-4258-8f2d-f45a7394f429"
      },
      "source": [
        "- このセクションでは、以前の概念をいわゆる変圧器ブロックに組み合わせています\n",
        "- 変圧器ブロックは、前の章からの因果的なマルチヘッド注意モジュールを線形層、前のセクションで実装したフォワードフォワードニューラルネットワークと組み合わせます\n",
        "- さらに、変圧器ブロックはドロップアウトとショートカット接続も使用します"
      ]
    },
    {
      "cell_type": "code",
      "execution_count": 21,
      "id": "0e1e8176-e5e3-4152-b1aa-0bbd7891dfd9",
      "metadata": {
        "colab": {
          "base_uri": "https://localhost:8080/",
          "height": 375
        },
        "id": "0e1e8176-e5e3-4152-b1aa-0bbd7891dfd9",
        "outputId": "414e1006-507a-4039-de91-8cd96ae3b702"
      },
      "outputs": [
        {
          "output_type": "error",
          "ename": "ModuleNotFoundError",
          "evalue": "No module named 'previous_chapters'",
          "traceback": [
            "\u001b[0;31m---------------------------------------------------------------------------\u001b[0m",
            "\u001b[0;31mModuleNotFoundError\u001b[0m                       Traceback (most recent call last)",
            "\u001b[0;32m<ipython-input-21-2336277376>\u001b[0m in \u001b[0;36m<cell line: 0>\u001b[0;34m()\u001b[0m\n\u001b[0;32m----> 1\u001b[0;31m \u001b[0;32mfrom\u001b[0m \u001b[0mprevious_chapters\u001b[0m \u001b[0;32mimport\u001b[0m \u001b[0mMultiHeadAttention\u001b[0m\u001b[0;34m\u001b[0m\u001b[0;34m\u001b[0m\u001b[0m\n\u001b[0m\u001b[1;32m      2\u001b[0m \u001b[0;34m\u001b[0m\u001b[0m\n\u001b[1;32m      3\u001b[0m \u001b[0;34m\u001b[0m\u001b[0m\n\u001b[1;32m      4\u001b[0m \u001b[0;32mclass\u001b[0m \u001b[0mTransformerBlock\u001b[0m\u001b[0;34m(\u001b[0m\u001b[0mnn\u001b[0m\u001b[0;34m.\u001b[0m\u001b[0mModule\u001b[0m\u001b[0;34m)\u001b[0m\u001b[0;34m:\u001b[0m\u001b[0;34m\u001b[0m\u001b[0;34m\u001b[0m\u001b[0m\n\u001b[1;32m      5\u001b[0m     \u001b[0;32mdef\u001b[0m \u001b[0m__init__\u001b[0m\u001b[0;34m(\u001b[0m\u001b[0mself\u001b[0m\u001b[0;34m,\u001b[0m \u001b[0mcfg\u001b[0m\u001b[0;34m)\u001b[0m\u001b[0;34m:\u001b[0m\u001b[0;34m\u001b[0m\u001b[0;34m\u001b[0m\u001b[0m\n",
            "\u001b[0;31mModuleNotFoundError\u001b[0m: No module named 'previous_chapters'",
            "",
            "\u001b[0;31m---------------------------------------------------------------------------\u001b[0;32m\nNOTE: If your import is failing due to a missing package, you can\nmanually install dependencies using either !pip or !apt.\n\nTo view examples of installing some common dependencies, click the\n\"Open Examples\" button below.\n\u001b[0;31m---------------------------------------------------------------------------\u001b[0m\n"
          ],
          "errorDetails": {
            "actions": [
              {
                "action": "open_url",
                "actionText": "Open Examples",
                "url": "/notebooks/snippets/importing_libraries.ipynb"
              }
            ]
          }
        }
      ],
      "source": [
        "from previous_chapters import MultiHeadAttention\n",
        "\n",
        "\n",
        "class TransformerBlock(nn.Module):\n",
        "    def __init__(self, cfg):\n",
        "        super().__init__()\n",
        "        self.att = MultiHeadAttention(\n",
        "            d_in=cfg[\"emb_dim\"],\n",
        "            d_out=cfg[\"emb_dim\"],\n",
        "            context_length=cfg[\"context_length\"],\n",
        "            num_heads=cfg[\"n_heads\"],\n",
        "            dropout=cfg[\"drop_rate\"],\n",
        "            qkv_bias=cfg[\"qkv_bias\"])\n",
        "        self.ff = FeedForward(cfg)\n",
        "        self.norm1 = LayerNorm(cfg[\"emb_dim\"])\n",
        "        self.norm2 = LayerNorm(cfg[\"emb_dim\"])\n",
        "        self.drop_shortcut = nn.Dropout(cfg[\"drop_rate\"])\n",
        "\n",
        "    def forward(self, x):\n",
        "        # Shortcut connection for attention block\n",
        "        shortcut = x\n",
        "        x = self.norm1(x)\n",
        "        x = self.att(x)  # Shape [batch_size, num_tokens, emb_size]\n",
        "        x = self.drop_shortcut(x)\n",
        "        x = x + shortcut  # Add the original input back\n",
        "\n",
        "        # Shortcut connection for feed forward block\n",
        "        shortcut = x\n",
        "        x = self.norm2(x)\n",
        "        x = self.ff(x)\n",
        "        x = self.drop_shortcut(x)\n",
        "        x = x + shortcut  # Add the original input back\n",
        "\n",
        "        return x"
      ]
    },
    {
      "cell_type": "markdown",
      "id": "36b64d16-94a6-4d13-8c85-9494c50478a9",
      "metadata": {
        "id": "36b64d16-94a6-4d13-8c85-9494c50478a9"
      },
      "source": [
        "<img src=\"https://sebastianraschka.com/images/LLMs-from-scratch-images/ch04_compressed/13.webp?1\" width=\"400px\">"
      ]
    },
    {
      "cell_type": "markdown",
      "id": "54d2d375-87bd-4153-9040-63a1e6a2b7cb",
      "metadata": {
        "id": "54d2d375-87bd-4153-9040-63a1e6a2b7cb"
      },
      "source": [
        "- それぞれ6つのトークンを備えた2つの入力サンプルがあるとします。各トークンは768次元の埋め込みベクトルです。次に、この変圧器ブロックは自己触媒を適用し、次に線形層が続き、同様のサイズの出力を生成します\n",
        "- 出力は、前の章で説明したコンテキストベクターの拡張バージョンと考えることができます"
      ]
    },
    {
      "cell_type": "code",
      "execution_count": null,
      "id": "3fb45a63-b1f3-4b08-b525-dafbc8228405",
      "metadata": {
        "id": "3fb45a63-b1f3-4b08-b525-dafbc8228405"
      },
      "outputs": [],
      "source": [
        "torch.manual_seed(123)\n",
        "\n",
        "x = torch.rand(2, 4, 768)  # Shape: [batch_size, num_tokens, emb_dim]\n",
        "block = TransformerBlock(GPT_CONFIG_124M)\n",
        "output = block(x)\n",
        "\n",
        "print(\"Input shape:\", x.shape)\n",
        "print(\"Output shape:\", output.shape)"
      ]
    },
    {
      "cell_type": "markdown",
      "id": "8f9e4ee4-cf23-4583-b1fd-317abb4fcd13",
      "metadata": {
        "id": "8f9e4ee4-cf23-4583-b1fd-317abb4fcd13"
      },
      "source": [
        "<img src=\"https://sebastianraschka.com/images/LLMs-from-scratch-images/ch04_compressed/14.webp?1\" width=\"400px\">"
      ]
    },
    {
      "cell_type": "markdown",
      "id": "46618527-15ac-4c32-ad85-6cfea83e006e",
      "metadata": {
        "id": "46618527-15ac-4c32-ad85-6cfea83e006e"
      },
      "source": [
        "## 4.6 GPTモデルのコーディング"
      ]
    },
    {
      "cell_type": "markdown",
      "id": "dec7d03d-9ff3-4ca3-ad67-01b67c2f5457",
      "metadata": {
        "id": "dec7d03d-9ff3-4ca3-ad67-01b67c2f5457"
      },
      "source": [
        "- 私たちはほとんどそこにいます：次に、この章の最初にコーディングしたアーキテクチャに変圧器ブロックをプラグインして、使用可能なGPTアーキテクチャを取得するようにしましょう\n",
        "- 変圧器ブロックは複数回繰り返されることに注意してください。最小の124M GPT-2モデルの場合、12回繰り返します。"
      ]
    },
    {
      "cell_type": "markdown",
      "id": "9b7b362d-f8c5-48d2-8ebd-722480ac5073",
      "metadata": {
        "id": "9b7b362d-f8c5-48d2-8ebd-722480ac5073"
      },
      "source": [
        "<img src=\"https://sebastianraschka.com/images/LLMs-from-scratch-images/ch04_compressed/15.webp\" width=\"400px\">"
      ]
    },
    {
      "cell_type": "markdown",
      "id": "324e4b5d-ed89-4fdf-9a52-67deee0593bc",
      "metadata": {
        "id": "324e4b5d-ed89-4fdf-9a52-67deee0593bc"
      },
      "source": [
        "- 対応するコードの実装、 `cfg [\" n_layers \"] = 12`："
      ]
    },
    {
      "cell_type": "code",
      "execution_count": null,
      "id": "c61de39c-d03c-4a32-8b57-f49ac3834857",
      "metadata": {
        "id": "c61de39c-d03c-4a32-8b57-f49ac3834857"
      },
      "outputs": [],
      "source": [
        "class GPTModel(nn.Module):\n",
        "    def __init__(self, cfg):\n",
        "        super().__init__()\n",
        "        self.tok_emb = nn.Embedding(cfg[\"vocab_size\"], cfg[\"emb_dim\"])\n",
        "        self.pos_emb = nn.Embedding(cfg[\"context_length\"], cfg[\"emb_dim\"])\n",
        "        self.drop_emb = nn.Dropout(cfg[\"drop_rate\"])\n",
        "\n",
        "        self.trf_blocks = nn.Sequential(\n",
        "            *[TransformerBlock(cfg) for _ in range(cfg[\"n_layers\"])])\n",
        "\n",
        "        self.final_norm = LayerNorm(cfg[\"emb_dim\"])\n",
        "        self.out_head = nn.Linear(\n",
        "            cfg[\"emb_dim\"], cfg[\"vocab_size\"], bias=False\n",
        "        )\n",
        "\n",
        "    def forward(self, in_idx):\n",
        "        batch_size, seq_len = in_idx.shape\n",
        "        tok_embeds = self.tok_emb(in_idx)\n",
        "        pos_embeds = self.pos_emb(torch.arange(seq_len, device=in_idx.device))\n",
        "        x = tok_embeds + pos_embeds  # Shape [batch_size, num_tokens, emb_size]\n",
        "        x = self.drop_emb(x)\n",
        "        x = self.trf_blocks(x)\n",
        "        x = self.final_norm(x)\n",
        "        logits = self.out_head(x)\n",
        "        return logits"
      ]
    },
    {
      "cell_type": "markdown",
      "id": "2750270f-c45d-4410-8767-a6adbd05d5c3",
      "metadata": {
        "id": "2750270f-c45d-4410-8767-a6adbd05d5c3"
      },
      "source": [
        "-124Mパラメーターモデルの構成を使用して、次のようにランダムな初期重みでこのGPTモデルをインスタンス化できるようになりました。"
      ]
    },
    {
      "cell_type": "code",
      "execution_count": null,
      "id": "ef94fd9c-4e9d-470d-8f8e-dd23d1bb1f64",
      "metadata": {
        "id": "ef94fd9c-4e9d-470d-8f8e-dd23d1bb1f64"
      },
      "outputs": [],
      "source": [
        "torch.manual_seed(123)\n",
        "model = GPTModel(GPT_CONFIG_124M)\n",
        "\n",
        "out = model(batch)\n",
        "print(\"Input batch:\\n\", batch)\n",
        "print(\"\\nOutput shape:\", out.shape)\n",
        "print(out)"
      ]
    },
    {
      "cell_type": "markdown",
      "id": "6d616e7a-568b-4921-af29-bd3f4683cd2e",
      "metadata": {
        "id": "6d616e7a-568b-4921-af29-bd3f4683cd2e"
      },
      "source": [
        "- 次の章でこのモデルをトレーニングします\n",
        "- ただし、そのサイズに関する簡単なメモ：以前に124mパラメーターモデルと呼んでいました。次のように、この番号を再確認できます。"
      ]
    },
    {
      "cell_type": "code",
      "execution_count": null,
      "id": "84fb8be4-9d3b-402b-b3da-86b663aac33a",
      "metadata": {
        "id": "84fb8be4-9d3b-402b-b3da-86b663aac33a"
      },
      "outputs": [],
      "source": [
        "total_params = sum(p.numel() for p in model.parameters())\n",
        "print(f\"Total number of parameters: {total_params:,}\")"
      ]
    },
    {
      "cell_type": "markdown",
      "id": "b67d13dd-dd01-4ba6-a2ad-31ca8a9fd660",
      "metadata": {
        "id": "b67d13dd-dd01-4ba6-a2ad-31ca8a9fd660"
      },
      "source": [
        "- 上記のように、このモデルには124mパラメーターではなく163mがあります。なぜ？\n",
        "- 元のGPT-2ペーパーでは、研究者は重量を適用しました。つまり、トークン埋め込み層（ `tok_emb`）を出力層として再利用することを意味します。\n",
        "- トークン埋め込み層は、50,257次元の1ホットエンコード入力トークンを768次元の埋め込み表現に投影します\n",
        "- 出力層は768次元の埋め込みを50,257次元表現に戻し、これらを言葉に戻すことができます（次のセクションではそれについて詳しく説明します）\n",
        "- したがって、埋め込み層と出力層には、重量マトリックスの形状に基づいてわかるように、同じ数の重みパラメーターがあります。\n",
        "- ただし、そのサイズに関する簡単なメモ：以前に124mパラメーターモデルと呼んでいました。次のように、この番号を再確認できます。"
      ]
    },
    {
      "cell_type": "code",
      "execution_count": null,
      "id": "e3b43233-e9b8-4f5a-b72b-a263ec686982",
      "metadata": {
        "id": "e3b43233-e9b8-4f5a-b72b-a263ec686982"
      },
      "outputs": [],
      "source": [
        "print(\"Token embedding layer shape:\", model.tok_emb.weight.shape)\n",
        "print(\"Output layer shape:\", model.out_head.weight.shape)"
      ]
    },
    {
      "cell_type": "markdown",
      "id": "f02259f6-6f79-4c89-a866-4ebeae1c3289",
      "metadata": {
        "id": "f02259f6-6f79-4c89-a866-4ebeae1c3289"
      },
      "source": [
        "- 元のGPT-2ペーパーで、研究者はトークン埋め込みマトリックスを出力マトリックスとして再利用しました\n",
        "- それに応じて、出力層のパラメーターの数を差し引いた場合、124mパラメーターモデルを取得します。"
      ]
    },
    {
      "cell_type": "code",
      "execution_count": null,
      "id": "95a22e02-50d3-48b3-a4e0-d9863343c164",
      "metadata": {
        "id": "95a22e02-50d3-48b3-a4e0-d9863343c164"
      },
      "outputs": [],
      "source": [
        "total_params_gpt2 =  total_params - sum(p.numel() for p in model.out_head.parameters())\n",
        "print(f\"Number of trainable parameters considering weight tying: {total_params_gpt2:,}\")"
      ]
    },
    {
      "cell_type": "markdown",
      "id": "40b03f80-b94c-46e7-9d42-d0df399ff3db",
      "metadata": {
        "id": "40b03f80-b94c-46e7-9d42-d0df399ff3db"
      },
      "source": [
        "- 実際には、体重を作らずにモデルを訓練する方が簡単だと感じたので、ここで実装しませんでした\n",
        "- ただし、第5章で前提条件の重みをロードするときに、この重量タイイングのアイデアを再訪して適用します。\n",
        "- 最後に、次のようにモデルのメモリ要件を計算できます。これは、役立つ基準点になる可能性があります。"
      ]
    },
    {
      "cell_type": "code",
      "execution_count": null,
      "id": "5131a752-fab8-4d70-a600-e29870b33528",
      "metadata": {
        "id": "5131a752-fab8-4d70-a600-e29870b33528"
      },
      "outputs": [],
      "source": [
        "# Calculate the total size in bytes (assuming float32, 4 bytes per parameter)\n",
        "total_size_bytes = total_params * 4\n",
        "\n",
        "# Convert to megabytes\n",
        "total_size_mb = total_size_bytes / (1024 * 1024)\n",
        "\n",
        "print(f\"Total size of the model: {total_size_mb:.2f} MB\")"
      ]
    },
    {
      "cell_type": "markdown",
      "id": "309a3be4-c20a-4657-b4e0-77c97510b47c",
      "metadata": {
        "id": "309a3be4-c20a-4657-b4e0-77c97510b47c"
      },
      "source": [
        "- 演習：__link_placeholder_0__でも参照される他の構成を試すことができます。\n",
        "\n",
        "-  ** gpt2-small **（すでに実装した124m構成）：\n",
        "-  \"emb_dim\" = 768\n",
        "- 「n_layers」= 12\n",
        "- 「n_heads」= 12\n",
        "\n",
        "-  ** gpt2-medium：**\n",
        "-  \"emb_dim\" = 1024\n",
        "- 「n_layers」= 24\n",
        "- 「n_heads」= 16\n",
        "\n",
        "-  ** gpt2-large：**\n",
        "-  \"emb_dim\" = 1280\n",
        "- 「n_layers」= 36\n",
        "- 「n_heads」= 20\n",
        "\n",
        "-  ** gpt2-xl：**\n",
        "-  \"emb_dim\" = 1600\n",
        "- 「n_layers」= 48\n",
        "- 「n_heads」= 25"
      ]
    },
    {
      "cell_type": "markdown",
      "id": "da5d9bc0-95ab-45d4-9378-417628d86e35",
      "metadata": {
        "id": "da5d9bc0-95ab-45d4-9378-417628d86e35"
      },
      "source": [
        "## 4.7テキストの生成"
      ]
    },
    {
      "cell_type": "markdown",
      "id": "48da5deb-6ee0-4b9b-8dd2-abed7ed65172",
      "metadata": {
        "id": "48da5deb-6ee0-4b9b-8dd2-abed7ed65172"
      },
      "source": [
        "- 上記で実装したGPTモデルのようなLLMSは、一度に1つの単語を生成するために使用されます"
      ]
    },
    {
      "cell_type": "markdown",
      "id": "caade12a-fe97-480f-939c-87d24044edff",
      "metadata": {
        "id": "caade12a-fe97-480f-939c-87d24044edff"
      },
      "source": [
        "<img src=\"https://sebastianraschka.com/images/LLMs-from-scratch-images/ch04_compressed/16.webp\" width=\"400px\">"
      ]
    },
    {
      "cell_type": "markdown",
      "id": "a7061524-a3bd-4803-ade6-2e3b7b79ac13",
      "metadata": {
        "id": "a7061524-a3bd-4803-ade6-2e3b7b79ac13"
      },
      "source": [
        "- 次の「Generate_text_simple`関数は貪欲なデコードを実装します。これはテキストを生成するためのシンプルで高速な方法です\n",
        "- 貪欲なデコードでは、各ステップで、モデルは次の出力として最高の確率で単語（またはトークン）を選択します（最高のロジットは最高の確率に対応するため、技術的にはSoftMax関数を明示的に計算する必要さえありません）\n",
        "- 次の章では、より高度な `generate_text`関数を実装します\n",
        "- 以下の図は、入力コンテキストが与えられたGPTモデルが次の単語トークンを生成する方法を示しています"
      ]
    },
    {
      "cell_type": "markdown",
      "id": "7ee0f32c-c18c-445e-b294-a879de2aa187",
      "metadata": {
        "id": "7ee0f32c-c18c-445e-b294-a879de2aa187"
      },
      "source": [
        "<img src=\"https://sebastianraschka.com/images/LLMs-from-scratch-images/ch04_compressed/17.webp\" width=\"600px\">"
      ]
    },
    {
      "cell_type": "code",
      "execution_count": null,
      "id": "c9b428a9-8764-4b36-80cd-7d4e00595ba6",
      "metadata": {
        "id": "c9b428a9-8764-4b36-80cd-7d4e00595ba6"
      },
      "outputs": [],
      "source": [
        "def generate_text_simple(model, idx, max_new_tokens, context_size):\n",
        "    # idx is (batch, n_tokens) array of indices in the current context\n",
        "    for _ in range(max_new_tokens):\n",
        "\n",
        "        # Crop current context if it exceeds the supported context size\n",
        "        # E.g., if LLM supports only 5 tokens, and the context size is 10\n",
        "        # then only the last 5 tokens are used as context\n",
        "        idx_cond = idx[:, -context_size:]\n",
        "\n",
        "        # Get the predictions\n",
        "        with torch.no_grad():\n",
        "            logits = model(idx_cond)\n",
        "\n",
        "        # Focus only on the last time step\n",
        "        # (batch, n_tokens, vocab_size) becomes (batch, vocab_size)\n",
        "        logits = logits[:, -1, :]\n",
        "\n",
        "        # Apply softmax to get probabilities\n",
        "        probas = torch.softmax(logits, dim=-1)  # (batch, vocab_size)\n",
        "\n",
        "        # Get the idx of the vocab entry with the highest probability value\n",
        "        idx_next = torch.argmax(probas, dim=-1, keepdim=True)  # (batch, 1)\n",
        "\n",
        "        # Append sampled index to the running sequence\n",
        "        idx = torch.cat((idx, idx_next), dim=1)  # (batch, n_tokens+1)\n",
        "\n",
        "    return idx"
      ]
    },
    {
      "cell_type": "markdown",
      "id": "6515f2c1-3cc7-421c-8d58-cc2f563b7030",
      "metadata": {
        "id": "6515f2c1-3cc7-421c-8d58-cc2f563b7030"
      },
      "source": [
        "- 上記の「Generate_text_simple`は、一度に1つのトークンを作成する反復プロセスを実装します<img src=\"https://sebastianraschka.com/images/LLMs-from-scratch-images/ch04_compressed/18.webp\" width=\"600px\">"
      ]
    },
    {
      "cell_type": "markdown",
      "id": "f682eac4-f9bd-438b-9dec-6b1cc7bc05ce",
      "metadata": {
        "id": "f682eac4-f9bd-438b-9dec-6b1cc7bc05ce"
      },
      "source": [
        "- 入力例を準備しましょう："
      ]
    },
    {
      "cell_type": "code",
      "execution_count": null,
      "id": "3d7e3e94-df0f-4c0f-a6a1-423f500ac1d3",
      "metadata": {
        "id": "3d7e3e94-df0f-4c0f-a6a1-423f500ac1d3"
      },
      "outputs": [],
      "source": [
        "start_context = \"Hello, I am\"\n",
        "\n",
        "encoded = tokenizer.encode(start_context)\n",
        "print(\"encoded:\", encoded)\n",
        "\n",
        "encoded_tensor = torch.tensor(encoded).unsqueeze(0)\n",
        "print(\"encoded_tensor.shape:\", encoded_tensor.shape)"
      ]
    },
    {
      "cell_type": "code",
      "execution_count": null,
      "id": "a72a9b60-de66-44cf-b2f9-1e638934ada4",
      "metadata": {
        "id": "a72a9b60-de66-44cf-b2f9-1e638934ada4"
      },
      "outputs": [],
      "source": [
        "model.eval() # disable dropout\n",
        "\n",
        "out = generate_text_simple(\n",
        "    model=model,\n",
        "    idx=encoded_tensor,\n",
        "    max_new_tokens=6,\n",
        "    context_size=GPT_CONFIG_124M[\"context_length\"]\n",
        ")\n",
        "\n",
        "print(\"Output:\", out)\n",
        "print(\"Output length:\", len(out[0]))"
      ]
    },
    {
      "cell_type": "markdown",
      "id": "1d131c00-1787-44ba-bec3-7c145497b2c3",
      "metadata": {
        "id": "1d131c00-1787-44ba-bec3-7c145497b2c3"
      },
      "source": [
        "- バッチディメンションを削除し、テキストに戻します。"
      ]
    },
    {
      "cell_type": "code",
      "execution_count": null,
      "id": "053d99f6-5710-4446-8d52-117fb34ea9f6",
      "metadata": {
        "id": "053d99f6-5710-4446-8d52-117fb34ea9f6"
      },
      "outputs": [],
      "source": [
        "decoded_text = tokenizer.decode(out.squeeze(0).tolist())\n",
        "print(decoded_text)"
      ]
    },
    {
      "cell_type": "markdown",
      "id": "9a894003-51f6-4ccc-996f-3b9c7d5a1d70",
      "metadata": {
        "id": "9a894003-51f6-4ccc-996f-3b9c7d5a1d70"
      },
      "source": [
        "- モデルが訓練されていないことに注意してください。したがって、上記のランダム出力テキスト\n",
        "- 次の章でモデルをトレーニングします"
      ]
    },
    {
      "cell_type": "markdown",
      "id": "a35278b6-9e5c-480f-83e5-011a1173648f",
      "metadata": {
        "id": "a35278b6-9e5c-480f-83e5-011a1173648f"
      },
      "source": [
        "##概要とテイクアウト\n",
        "\n",
        "-  __link_placeholder_0__スクリプトを参照してください。\n",
        "-  __link_placeholder_1__でエクササイズソリューションを見つけることができます"
      ]
    }
  ],
  "metadata": {
    "kernelspec": {
      "display_name": "Python 3 (ipykernel)",
      "language": "python",
      "name": "python3"
    },
    "language_info": {
      "codemirror_mode": {
        "name": "ipython",
        "version": 3
      },
      "file_extension": ".py",
      "mimetype": "text/x-python",
      "name": "python",
      "nbconvert_exporter": "python",
      "pygments_lexer": "ipython3",
      "version": "3.10.16"
    },
    "colab": {
      "provenance": [],
      "include_colab_link": true
    }
  },
  "nbformat": 4,
  "nbformat_minor": 5
}